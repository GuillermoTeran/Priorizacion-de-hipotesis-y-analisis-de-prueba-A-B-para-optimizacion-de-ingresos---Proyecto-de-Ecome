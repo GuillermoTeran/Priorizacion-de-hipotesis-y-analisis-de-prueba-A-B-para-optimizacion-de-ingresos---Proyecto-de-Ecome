{
 "cells": [
  {
   "cell_type": "markdown",
   "metadata": {},
   "source": [
    "# Hola &#x1F600;,\n",
    "\n",
    "Soy **Hesus Garcia** – **\"Soy el único Hesus que conoces (y probablemente conocerás) 🌟\"** – Sí, como \"Jesús\", pero con una H que me hace único. Puede sonar raro, pero créeme, ¡no lo olvidarás! Como tu revisor en Triple-Ten, estoy aquí para guiarte y ayudarte a mejorar tu código. Si algo necesita un ajuste, no hay de qué preocuparse; ¡aquí estoy para hacer que tu trabajo brille con todo su potencial! ✨\n",
    "\n",
    "Cada vez que encuentre un detalle importante en tu código, te lo señalaré para que puedas corregirlo y así te prepares para un ambiente de trabajo real, donde el líder de tu equipo actuaría de manera similar. Si en algún momento no logras solucionar el problema, te daré más detalles para ayudarte en nuestra próxima oportunidad de revisión.\n",
    "\n",
    "Es importante que cuando encuentres un comentario, **no los muevas, no los modifiques, ni los borres**.\n",
    "\n",
    "---\n",
    "\n",
    "### Formato de Comentarios\n",
    "\n",
    "Revisaré cuidadosamente cada implementación en tu notebook para asegurar que cumpla con los requisitos y te daré comentarios de acuerdo al siguiente formato:\n",
    "\n",
    "\n",
    "<div class=\"alert alert-block alert-success\">\n",
    "<b>Comentario del revisor</b> <a class=\"tocSkip\"></a><br>\n",
    "    \n",
    "<b>Éxito</b> - ¡Excelente trabajo! Esta parte está bien implementada y contribuye significativamente al análisis de datos o al proyecto. Continúa aplicando estas buenas prácticas en futuras secciones.\n",
    "    \n",
    "</div>\n",
    "\n",
    "<div class=\"alert alert-block alert-warning\">\n",
    "<b>Comentario del revisor</b> <a class=\"tocSkip\"></a><br>\n",
    "    \n",
    "<b>Atención</b> ⚠️ - Este código está correcto, pero se puede optimizar. Considera implementar mejoras para que sea más eficiente y fácil de leer. Esto fortalecerá la calidad de tu proyecto.\n",
    "    \n",
    "</div>\n",
    "\n",
    "<div class=\"alert alert-block alert-danger\">\n",
    "<b>Comentario del revisor</b> <a class=\"tocSkip\"></a><br>\n",
    "    \n",
    "<b>A resolver</b> ❗ - Aquí hay un problema o error en el código que es necesario corregir para aprobar esta sección. Por favor, revisa y corrige este punto, ya que es fundamental para la validez del análisis y la precisión de los resultados.\n",
    "    \n",
    "</div>\n",
    "\n",
    "---\n",
    "\n",
    "Al final de cada revisión, recibirás un **Comentario General del Revisor** que incluirá:\n",
    "\n",
    "- **Aspectos positivos:** Un resumen de los puntos fuertes de tu proyecto.\n",
    "- **Áreas de mejora:** Sugerencias sobre aspectos donde puedes mejorar.\n",
    "- **Temas adicionales para investigar:** Ideas de temas opcionales que puedes explorar por tu cuenta para desarrollar aún más tus habilidades.\n",
    "\n",
    "Estos temas adicionales no son obligatorios en esta etapa, pero pueden serte útiles para profundizar en el futuro.\n",
    "\n",
    "--- \n",
    "\n",
    "Esta estructura en viñetas facilita la lectura y comprensión de cada parte del comentario final.\n",
    "\n",
    "También puedes responderme de la siguiente manera si tienes alguna duda o quieres aclarar algo específico:\n",
    "\n",
    "\n",
    "<div class=\"alert alert-block alert-info\">\n",
    "<b>Respuesta del estudiante</b> <a class=\"tocSkip\"></a>\n",
    "    \n",
    "Aquí puedes escribir tu respuesta o pregunta sobre el comentario.\n",
    "    \n",
    "</div>\n",
    "\n",
    "\n",
    "**¡Empecemos!** &#x1F680;"
   ]
  },
  {
   "cell_type": "markdown",
   "metadata": {},
   "source": [
    "# PROYECTO"
   ]
  },
  {
   "cell_type": "markdown",
   "metadata": {},
   "source": [
    "## Descripción de los datos"
   ]
  },
  {
   "cell_type": "code",
   "execution_count": 1,
   "metadata": {},
   "outputs": [
    {
     "name": "stdout",
     "output_type": "stream",
     "text": [
      "   transactionId   visitorId        date  revenue group\n",
      "0     3667963787  3312258926  2019-08-15     30.4     B\n",
      "1     2804400009  3642806036  2019-08-15     15.2     B\n",
      "2     2961555356  4069496402  2019-08-15     10.2     A\n",
      "3     3797467345  1196621759  2019-08-15    155.1     B\n",
      "4     2282983706  2322279887  2019-08-15     40.5     B\n",
      "         date group  visits\n",
      "0  2019-08-01     A     719\n",
      "1  2019-08-02     A     619\n",
      "2  2019-08-03     A     507\n",
      "3  2019-08-04     A     717\n",
      "4  2019-08-05     A     756\n"
     ]
    }
   ],
   "source": [
    "import pandas as pd\n",
    "import seaborn as sns\n",
    "import matplotlib.pyplot as plt\n",
    "import datetime as dt\n",
    "import numpy as np\n",
    "import scipy.stats as stats\n",
    "\n",
    "data = pd.read_csv('/datasets/hypotheses_us.csv', sep=';')\n",
    "\n",
    "orders = pd.read_csv('/datasets/orders_us.csv', sep=',')\n",
    "                     \n",
    "visits = pd.read_csv('/datasets/visits_us.csv', sep=',')                     \n",
    "                   \n",
    "print(orders.head(5))\n",
    "                     \n",
    "print(visits.head(5))"
   ]
  },
  {
   "cell_type": "code",
   "execution_count": 2,
   "metadata": {},
   "outputs": [
    {
     "name": "stdout",
     "output_type": "stream",
     "text": [
      "Index(['Hypothesis', 'Reach', 'Impact', 'Confidence', 'Effort'], dtype='object')\n",
      "Index(['transactionId', 'visitorId', 'date', 'revenue', 'group'], dtype='object')\n",
      "Index(['date', 'group', 'visits'], dtype='object')\n"
     ]
    }
   ],
   "source": [
    "print(data.columns)\n",
    "print(orders.columns)\n",
    "print(visits.columns)"
   ]
  },
  {
   "cell_type": "code",
   "execution_count": 3,
   "metadata": {},
   "outputs": [
    {
     "data": {
      "text/html": [
       "<div>\n",
       "<style scoped>\n",
       "    .dataframe tbody tr th:only-of-type {\n",
       "        vertical-align: middle;\n",
       "    }\n",
       "\n",
       "    .dataframe tbody tr th {\n",
       "        vertical-align: top;\n",
       "    }\n",
       "\n",
       "    .dataframe thead th {\n",
       "        text-align: right;\n",
       "    }\n",
       "</style>\n",
       "<table border=\"1\" class=\"dataframe\">\n",
       "  <thead>\n",
       "    <tr style=\"text-align: right;\">\n",
       "      <th></th>\n",
       "      <th>Hypothesis</th>\n",
       "      <th>Reach</th>\n",
       "      <th>Impact</th>\n",
       "      <th>Confidence</th>\n",
       "      <th>Effort</th>\n",
       "    </tr>\n",
       "  </thead>\n",
       "  <tbody>\n",
       "    <tr>\n",
       "      <th>0</th>\n",
       "      <td>Add two new channels for attracting traffic. T...</td>\n",
       "      <td>3</td>\n",
       "      <td>10</td>\n",
       "      <td>8</td>\n",
       "      <td>6</td>\n",
       "    </tr>\n",
       "    <tr>\n",
       "      <th>1</th>\n",
       "      <td>Launch your own delivery service. This will sh...</td>\n",
       "      <td>2</td>\n",
       "      <td>5</td>\n",
       "      <td>4</td>\n",
       "      <td>10</td>\n",
       "    </tr>\n",
       "    <tr>\n",
       "      <th>2</th>\n",
       "      <td>Add product recommendation blocks to the store...</td>\n",
       "      <td>8</td>\n",
       "      <td>3</td>\n",
       "      <td>7</td>\n",
       "      <td>3</td>\n",
       "    </tr>\n",
       "    <tr>\n",
       "      <th>3</th>\n",
       "      <td>Change the category structure. This will incre...</td>\n",
       "      <td>8</td>\n",
       "      <td>3</td>\n",
       "      <td>3</td>\n",
       "      <td>8</td>\n",
       "    </tr>\n",
       "    <tr>\n",
       "      <th>4</th>\n",
       "      <td>Change the background color on the main page. ...</td>\n",
       "      <td>3</td>\n",
       "      <td>1</td>\n",
       "      <td>1</td>\n",
       "      <td>1</td>\n",
       "    </tr>\n",
       "    <tr>\n",
       "      <th>5</th>\n",
       "      <td>Add a customer review page. This will increase...</td>\n",
       "      <td>3</td>\n",
       "      <td>2</td>\n",
       "      <td>2</td>\n",
       "      <td>3</td>\n",
       "    </tr>\n",
       "    <tr>\n",
       "      <th>6</th>\n",
       "      <td>Show banners with current offers and sales on ...</td>\n",
       "      <td>5</td>\n",
       "      <td>3</td>\n",
       "      <td>8</td>\n",
       "      <td>3</td>\n",
       "    </tr>\n",
       "    <tr>\n",
       "      <th>7</th>\n",
       "      <td>Add a subscription form to all the main pages....</td>\n",
       "      <td>10</td>\n",
       "      <td>7</td>\n",
       "      <td>8</td>\n",
       "      <td>5</td>\n",
       "    </tr>\n",
       "    <tr>\n",
       "      <th>8</th>\n",
       "      <td>Launch a promotion that gives users discounts ...</td>\n",
       "      <td>1</td>\n",
       "      <td>9</td>\n",
       "      <td>9</td>\n",
       "      <td>5</td>\n",
       "    </tr>\n",
       "  </tbody>\n",
       "</table>\n",
       "</div>"
      ],
      "text/plain": [
       "                                          Hypothesis  Reach  Impact  \\\n",
       "0  Add two new channels for attracting traffic. T...      3      10   \n",
       "1  Launch your own delivery service. This will sh...      2       5   \n",
       "2  Add product recommendation blocks to the store...      8       3   \n",
       "3  Change the category structure. This will incre...      8       3   \n",
       "4  Change the background color on the main page. ...      3       1   \n",
       "5  Add a customer review page. This will increase...      3       2   \n",
       "6  Show banners with current offers and sales on ...      5       3   \n",
       "7  Add a subscription form to all the main pages....     10       7   \n",
       "8  Launch a promotion that gives users discounts ...      1       9   \n",
       "\n",
       "   Confidence  Effort  \n",
       "0           8       6  \n",
       "1           4      10  \n",
       "2           7       3  \n",
       "3           3       8  \n",
       "4           1       1  \n",
       "5           2       3  \n",
       "6           8       3  \n",
       "7           8       5  \n",
       "8           9       5  "
      ]
     },
     "execution_count": 3,
     "metadata": {},
     "output_type": "execute_result"
    }
   ],
   "source": [
    "data"
   ]
  },
  {
   "cell_type": "code",
   "execution_count": 4,
   "metadata": {},
   "outputs": [
    {
     "name": "stdout",
     "output_type": "stream",
     "text": [
      "<class 'pandas.core.frame.DataFrame'>\n",
      "RangeIndex: 9 entries, 0 to 8\n",
      "Data columns (total 5 columns):\n",
      " #   Column      Non-Null Count  Dtype \n",
      "---  ------      --------------  ----- \n",
      " 0   Hypothesis  9 non-null      object\n",
      " 1   Reach       9 non-null      int64 \n",
      " 2   Impact      9 non-null      int64 \n",
      " 3   Confidence  9 non-null      int64 \n",
      " 4   Effort      9 non-null      int64 \n",
      "dtypes: int64(4), object(1)\n",
      "memory usage: 488.0+ bytes\n",
      "None\n",
      "<class 'pandas.core.frame.DataFrame'>\n",
      "RangeIndex: 1197 entries, 0 to 1196\n",
      "Data columns (total 5 columns):\n",
      " #   Column         Non-Null Count  Dtype  \n",
      "---  ------         --------------  -----  \n",
      " 0   transactionId  1197 non-null   int64  \n",
      " 1   visitorId      1197 non-null   int64  \n",
      " 2   date           1197 non-null   object \n",
      " 3   revenue        1197 non-null   float64\n",
      " 4   group          1197 non-null   object \n",
      "dtypes: float64(1), int64(2), object(2)\n",
      "memory usage: 46.9+ KB\n",
      "None\n",
      "<class 'pandas.core.frame.DataFrame'>\n",
      "RangeIndex: 62 entries, 0 to 61\n",
      "Data columns (total 3 columns):\n",
      " #   Column  Non-Null Count  Dtype \n",
      "---  ------  --------------  ----- \n",
      " 0   date    62 non-null     object\n",
      " 1   group   62 non-null     object\n",
      " 2   visits  62 non-null     int64 \n",
      "dtypes: int64(1), object(2)\n",
      "memory usage: 1.6+ KB\n",
      "None\n"
     ]
    }
   ],
   "source": [
    "print(data.info())\n",
    "print(orders.info())\n",
    "print(visits.info())"
   ]
  },
  {
   "cell_type": "code",
   "execution_count": 5,
   "metadata": {},
   "outputs": [
    {
     "name": "stdout",
     "output_type": "stream",
     "text": [
      "object\n",
      "object\n"
     ]
    }
   ],
   "source": [
    "print(orders['date'].dtype)\n",
    "print(visits['date'].dtype)"
   ]
  },
  {
   "cell_type": "code",
   "execution_count": 6,
   "metadata": {},
   "outputs": [
    {
     "name": "stdout",
     "output_type": "stream",
     "text": [
      "Empty DataFrame\n",
      "Columns: [transactionId, visitorId, date, revenue, group]\n",
      "Index: []\n",
      "Empty DataFrame\n",
      "Columns: [date, group, visits]\n",
      "Index: []\n"
     ]
    }
   ],
   "source": [
    "orders_duplicated = orders[orders.duplicated()]\n",
    "print(orders_duplicated)\n",
    "\n",
    "visits_duplicated = visits[visits.duplicated()]\n",
    "print(visits_duplicated)"
   ]
  },
  {
   "cell_type": "markdown",
   "metadata": {},
   "source": [
    "Verifico si existen filas totalmente duplicadas"
   ]
  },
  {
   "cell_type": "code",
   "execution_count": 7,
   "metadata": {},
   "outputs": [
    {
     "name": "stdout",
     "output_type": "stream",
     "text": [
      "transactionId    0\n",
      "visitorId        0\n",
      "date             0\n",
      "revenue          0\n",
      "group            0\n",
      "dtype: int64\n",
      "\n",
      "date      0\n",
      "group     0\n",
      "visits    0\n",
      "dtype: int64\n"
     ]
    }
   ],
   "source": [
    "print(orders.isna().sum())\n",
    "print()\n",
    "print(visits.isna().sum())"
   ]
  },
  {
   "cell_type": "markdown",
   "metadata": {},
   "source": [
    "Verifico si existen vakores ausentes NAN"
   ]
  },
  {
   "cell_type": "markdown",
   "metadata": {},
   "source": [
    "<div class=\"alert alert-block alert-success\"> <b>Comentario del revisor</b> <a class=\"tocSkip\"></a><br>\n",
    "\n",
    "<b>Éxito</b> - ¡Buen trabajo al cargar y explorar los datos de manera metódica! Verificaste los tipos de datos, identificaste valores duplicados y revisaste la existencia de valores ausentes. Esto demuestra un enfoque sistemático para garantizar la calidad de los datos antes del análisis.\n",
    "</div>"
   ]
  },
  {
   "cell_type": "markdown",
   "metadata": {},
   "source": [
    "## Priorizar hipótesis"
   ]
  },
  {
   "cell_type": "markdown",
   "metadata": {},
   "source": [
    "### Aplicar el framework ICE para priorizar hipótesis. Ordenarlas en orden descendente de prioridad"
   ]
  },
  {
   "cell_type": "code",
   "execution_count": 8,
   "metadata": {},
   "outputs": [
    {
     "name": "stdout",
     "output_type": "stream",
     "text": [
      "                                          Hypothesis        ICE\n",
      "8  Launch a promotion that gives users discounts ...  16.200000\n",
      "0  Add two new channels for attracting traffic. T...  13.333333\n",
      "7  Add a subscription form to all the main pages....  11.200000\n",
      "6  Show banners with current offers and sales on ...   8.000000\n",
      "2  Add product recommendation blocks to the store...   7.000000\n",
      "1  Launch your own delivery service. This will sh...   2.000000\n",
      "5  Add a customer review page. This will increase...   1.333333\n",
      "3  Change the category structure. This will incre...   1.125000\n",
      "4  Change the background color on the main page. ...   1.000000\n"
     ]
    }
   ],
   "source": [
    "data['ICE'] = (\n",
    "    data['Impact'] * \n",
    "    data['Confidence'] \n",
    "    / data['Effort']\n",
    ") \n",
    "\n",
    "print(data[['Hypothesis', 'ICE']].sort_values(by='ICE', ascending=False))"
   ]
  },
  {
   "cell_type": "markdown",
   "metadata": {},
   "source": [
    "### Aplicar el framework RICE para priorizar hipótesis. Ordenarlas en orden descendente de prioridad"
   ]
  },
  {
   "cell_type": "code",
   "execution_count": 9,
   "metadata": {},
   "outputs": [
    {
     "name": "stdout",
     "output_type": "stream",
     "text": [
      "                                          Hypothesis   RICE\n",
      "7  Add a subscription form to all the main pages....  112.0\n",
      "2  Add product recommendation blocks to the store...   56.0\n",
      "0  Add two new channels for attracting traffic. T...   40.0\n",
      "6  Show banners with current offers and sales on ...   40.0\n",
      "8  Launch a promotion that gives users discounts ...   16.2\n",
      "3  Change the category structure. This will incre...    9.0\n",
      "1  Launch your own delivery service. This will sh...    4.0\n",
      "5  Add a customer review page. This will increase...    4.0\n",
      "4  Change the background color on the main page. ...    3.0\n"
     ]
    }
   ],
   "source": [
    "data['RICE'] = (\n",
    "    data['Reach'] *\n",
    "    data['Impact'] *\n",
    "    data['Confidence']\n",
    "    / data['Effort']\n",
    ")\n",
    "\n",
    "print(data[['Hypothesis', 'RICE']].sort_values(by='RICE', ascending=False))"
   ]
  },
  {
   "cell_type": "markdown",
   "metadata": {},
   "source": [
    "### Mostrar cómo cambia la priorización de hipótesis cuando utilizas RICE en lugar de ICE. Proporcionar una explicación de los cambios"
   ]
  },
  {
   "cell_type": "code",
   "execution_count": 10,
   "metadata": {
    "scrolled": false
   },
   "outputs": [
    {
     "data": {
      "image/png": "[encoded data removed]",
      "text/plain": [
       "<Figure size 1200x800 with 1 Axes>"
      ]
     },
     "metadata": {},
     "output_type": "display_data"
    }
   ],
   "source": [
    "# Ordenar por ICE y RICE para crear rankings\n",
    "data[\"Rank_ICE\"] = data[\"ICE\"].rank(ascending=False, method=\"min\")\n",
    "data[\"Rank_RICE\"] = data[\"RICE\"].rank(ascending=False, method=\"min\")\n",
    "\n",
    "# Calcular la diferencia en los rankings\n",
    "data[\"Rank_Change\"] = data[\"Rank_ICE\"] - data[\"Rank_RICE\"]\n",
    "\n",
    "# Ordenar por RICE para mostrar las prioridades según esta métrica\n",
    "data_sorted = data.sort_values(by=\"RICE\", ascending=False)\n",
    "\n",
    "# Crear un gráfico para comparar los rankings\n",
    "plt.figure(figsize=(12, 8))\n",
    "\n",
    "# Agregar las líneas para los rankings\n",
    "plt.plot(data_sorted[\"Rank_ICE\"], data_sorted[\"Hypothesis\"], label=\"Rank ICE\", marker='o', linestyle='--')\n",
    "plt.plot(data_sorted[\"Rank_RICE\"], data_sorted[\"Hypothesis\"], label=\"Rank RICE\", marker='o', linestyle='-')\n",
    "\n",
    "# Configurar el diseño\n",
    "plt.title(\"Comparación de rankings: ICE vs RICE\", fontsize=16)\n",
    "plt.xlabel(\"Ranking\", fontsize=12)\n",
    "plt.ylabel(\"Hypothesis\", fontsize=12)\n",
    "plt.gca().invert_yaxis()  # Invertir el eje Y para que el mejor ranking esté arriba\n",
    "plt.legend(title=\"Métrica\", fontsize=10)\n",
    "plt.grid(axis=\"x\", linestyle=\"--\", alpha=0.7)\n",
    "\n",
    "# Mostrar el gráfico\n",
    "plt.tight_layout()\n",
    "plt.show()"
   ]
  },
  {
   "cell_type": "markdown",
   "metadata": {},
   "source": [
    "Observamos que al pririar las hipótesis primero por ICE tenemos que \"Launch a promotion that gives users discounts ...\" esta como primera opción sin embargo a este resultado se debe incluir el factor REACH para comprobar como impacta en los resultados y obtenemos que el RICE es \"Add a subscription form to all the main pages....\" esta como primera opción, de esta manera se observa como pasa de estar en tercer lugar al primero. Adicionalmente se realiza una ponderación para ver el comportamiento del ranking de cada hipótesis en ICE  y RICE (Para esto utilizamos rank() que otroga el 1 al valor mas alto y continua asi en orden descendente, luego se calcula la diferencia en tre ICE y RICE para cada ranking y se ordena las hipótesis por RICE para ver como cambia el comportamiento y si guarda cohrencia) y encontramos que \"Add a subscription form to all the main pages....\" se ubica como la primera opción en la prioridad de las hipótesis a realizar como se puede ver en el último gráfico."
   ]
  },
  {
   "cell_type": "markdown",
   "metadata": {},
   "source": [
    "<div class=\"alert alert-block alert-success\"> <b>Comentario del revisor</b> <a class=\"tocSkip\"></a><br>\n",
    "\n",
    "<b>Éxito</b> - Excelente implementación de los frameworks ICE y RICE para priorizar hipótesis. Además, utilizaste gráficos y análisis detallado para explicar cómo los resultados cambian al considerar el alcance (Reach). Esto muestra un entendimiento sólido de la importancia de estos frameworks en la priorización.\n",
    "</div>"
   ]
  },
  {
   "cell_type": "markdown",
   "metadata": {},
   "source": [
    "## Análisis del test A/B"
   ]
  },
  {
   "cell_type": "markdown",
   "metadata": {},
   "source": [
    "### Representa gráficamente el ingreso acumulado por grupo. Haz conclusiones y conjeturas"
   ]
  },
  {
   "cell_type": "code",
   "execution_count": 11,
   "metadata": {},
   "outputs": [
    {
     "name": "stdout",
     "output_type": "stream",
     "text": [
      "        date group  orders  buyers  revenue  visitors\n",
      "0 2019-08-01     A      24      20   2356.8       719\n",
      "1 2019-08-01     B      21      20   1620.0       713\n",
      "2 2019-08-02     A      44      38   3860.3      1338\n",
      "3 2019-08-02     B      45      43   4243.8      1294\n",
      "4 2019-08-03     A      68      62   5675.5      1845\n"
     ]
    }
   ],
   "source": [
    "orders['date'] = pd.to_datetime(orders['date'], format='%Y-%m-%d')\n",
    "visits['date'] = pd.to_datetime(visits['date'], format='%Y-%m-%d')\n",
    "\n",
    "# Crear una matriz con valores únicos de parejas fecha-grupo\n",
    "datesGroups = orders[['date','group']].drop_duplicates()\n",
    "\n",
    "ordersAggregated = datesGroups.apply(lambda x: orders[np.logical_and(orders['date'] <= x['date'], orders['group'] == x['group'])].agg({'date' : 'max', 'group' : 'max', 'transactionId' : pd.Series.nunique, 'visitorId' : pd.Series.nunique, 'revenue' : 'sum'}), axis=1).sort_values(by=['date','group'])\n",
    "\n",
    "visitsAggregated = datesGroups.apply(lambda x: visits[np.logical_and(visits['date'] <= x['date'], visits['group'] == x['group'])].agg({'date' : 'max', 'group' : 'max', 'visits' : 'sum'}), axis=1).sort_values(by=['date','group'])\n",
    "\n",
    "#  fusionar las dos tablas en una y dar a sus columnas nombres descriptivos\n",
    "cumulativeData = ordersAggregated.merge(visitsAggregated, left_on=['date', 'group'], right_on=['date', 'group'])\n",
    "cumulativeData.columns = ['date', 'group', 'orders', 'buyers', 'revenue', 'visitors']\n",
    "\n",
    "print(cumulativeData.head(5))"
   ]
  },
  {
   "cell_type": "code",
   "execution_count": 12,
   "metadata": {},
   "outputs": [
    {
     "data": {
      "text/plain": [
       "<matplotlib.legend.Legend at 0x7f4cdf402fd0>"
      ]
     },
     "execution_count": 12,
     "metadata": {},
     "output_type": "execute_result"
    },
    {
     "data": {
      "image/png": "[encoded data removed]",
      "text/plain": [
       "<Figure size 640x480 with 1 Axes>"
      ]
     },
     "metadata": {},
     "output_type": "display_data"
    }
   ],
   "source": [
    "# DataFrame con pedidos acumulados e ingresos acumulados por día, grupo A\n",
    "cumulativeRevenueA = cumulativeData[cumulativeData['group']=='A'][['date','revenue', 'orders']]\n",
    "\n",
    "# DataFrame con pedidos acumulados e ingresos acumulados por día, grupo B\n",
    "cumulativeRevenueB = cumulativeData[cumulativeData['group']=='B'][['date','revenue', 'orders']]\n",
    "\n",
    "# Trazar el gráfico de ingresos del grupo A\n",
    "plt.plot(cumulativeRevenueA['date'], cumulativeRevenueA['revenue'], label='A')\n",
    "\n",
    "# Trazar el gráfico de ingresos del grupo B\n",
    "plt.plot(cumulativeRevenueB['date'], cumulativeRevenueB['revenue'], label='B')\n",
    "\n",
    "# Rotar las etiquetas del eje X a 45 grados\n",
    "plt.xticks(rotation=45)\n",
    "\n",
    "# Agregar título y etiquetas a los ejes\n",
    "plt.title('Ingresos acumulados por grupo', fontsize=16)\n",
    "plt.xlabel('Fecha', fontsize=12)\n",
    "plt.ylabel('Ingresos acumulados', fontsize=12)\n",
    "\n",
    "# Mostrar la leyenda\n",
    "plt.legend(title='Grupos', fontsize=10)\n",
    "\n",
    "# Ajustar los márgenes del gráfico para evitar que las etiquetas se corten\n",
    "plt.tight_layout()\n",
    "\n",
    "plt.legend()"
   ]
  },
  {
   "cell_type": "markdown",
   "metadata": {},
   "source": [
    "Observamos que los ingresos aumentan de manera constante, sin embargo se puede ver que existen picos que pueden deberse a pedidos con valores muy altos que podrian interpretarse como valores atípicos que distorsionan la estabilización de las muestras especialmente en la muestra B."
   ]
  },
  {
   "cell_type": "markdown",
   "metadata": {},
   "source": [
    "<div class=\"alert alert-block alert-success\"> <b>Comentario del revisor</b> <a class=\"tocSkip\"></a><br>\n",
    "\n",
    "<b>Éxito</b> - Buen análisis de los ingresos acumulados por grupo. Identificaste correctamente picos que podrían estar relacionados con valores atípicos y destacaste cómo estos pueden afectar la estabilización de las muestras, especialmente en el grupo B.\n",
    "</div>"
   ]
  },
  {
   "cell_type": "markdown",
   "metadata": {},
   "source": [
    "### Representa gráficamente el tamaño de pedido promedio acumulado por grupo. Haz conclusiones y conjeturas"
   ]
  },
  {
   "cell_type": "code",
   "execution_count": 13,
   "metadata": {},
   "outputs": [
    {
     "data": {
      "text/plain": [
       "<matplotlib.legend.Legend at 0x7f4cdfc7ba90>"
      ]
     },
     "execution_count": 13,
     "metadata": {},
     "output_type": "execute_result"
    },
    {
     "data": {
      "image/png": "[encoded data removed]",
      "text/plain": [
       "<Figure size 640x480 with 1 Axes>"
      ]
     },
     "metadata": {},
     "output_type": "display_data"
    }
   ],
   "source": [
    "plt.plot(cumulativeRevenueA['date'], cumulativeRevenueA['revenue']/cumulativeRevenueA['orders'], label='A')\n",
    "\n",
    "plt.plot(cumulativeRevenueB['date'], cumulativeRevenueB['revenue']/cumulativeRevenueB['orders'], label='B')\n",
    "\n",
    "# Rotar las etiquetas del eje X a 45 grados\n",
    "plt.xticks(rotation=45)\n",
    "\n",
    "# Agregar título y etiquetas a los ejes\n",
    "plt.title('Tamaño de pedido promedio acumulado por grupo', fontsize=16)\n",
    "plt.xlabel('Fecha', fontsize=12)\n",
    "plt.ylabel('Pedido promedio acumulado', fontsize=12)\n",
    "\n",
    "# Mostrar la leyenda\n",
    "plt.legend(title='Grupos', fontsize=10)\n",
    "\n",
    "# Ajustar los márgenes del gráfico para evitar que las etiquetas se corten\n",
    "plt.tight_layout()\n",
    "\n",
    "plt.legend()"
   ]
  },
  {
   "cell_type": "markdown",
   "metadata": {},
   "source": [
    "Observamos que el pedido promedio tiene un comportamiento que decae y luego se recupera para la muestra A que hacia el final se va estabilizando y para la muestra B se puede ver que hay un incremento constante con un pico muy pronunciado que luego empieza a caer sin evidenciar una estabilización al final de la prueba. Esto se debe a lo mencionado anteriormente la presencia de pedidos muy altos que distorsionan la estabilización de la prueba. "
   ]
  },
  {
   "cell_type": "markdown",
   "metadata": {},
   "source": [
    "### Representa gráficamente la diferencia relativa en el tamaño de pedido promedio acumulado para el grupo B en comparación con el grupo A. Haz conclusiones y conjeturas"
   ]
  },
  {
   "cell_type": "code",
   "execution_count": 14,
   "metadata": {},
   "outputs": [
    {
     "data": {
      "text/plain": [
       "<matplotlib.lines.Line2D at 0x7f4cdfc37400>"
      ]
     },
     "execution_count": 14,
     "metadata": {},
     "output_type": "execute_result"
    },
    {
     "data": {
      "image/png": "[encoded data removed]",
      "text/plain": [
       "<Figure size 640x480 with 1 Axes>"
      ]
     },
     "metadata": {},
     "output_type": "display_data"
    }
   ],
   "source": [
    "# reunir los datos en un DataFrame\n",
    "mergedCumulativeRevenue = cumulativeRevenueA.merge(cumulativeRevenueB, left_on='date', right_on='date', how='left', suffixes=['A', 'B'])\n",
    "\n",
    "# trazar un gráfico de diferencia relativa para los tamaños de compra promedio\n",
    "plt.plot(mergedCumulativeRevenue['date'], (mergedCumulativeRevenue['revenueB']/mergedCumulativeRevenue['ordersB'])/(mergedCumulativeRevenue['revenueA']/mergedCumulativeRevenue['ordersA'])-1)\n",
    "\n",
    "# Rotar las etiquetas del eje X a 45 grados\n",
    "plt.xticks(rotation=45)\n",
    "\n",
    "# Agregar título y etiquetas a los ejes\n",
    "plt.title('Diferencia relativa en el tamaño de pedido promedio acumulado para el grupo B', fontsize=16)\n",
    "plt.xlabel('Fecha', fontsize=12)\n",
    "plt.ylabel('Diferencia', fontsize=12)\n",
    "\n",
    "# Ajustar los márgenes del gráfico para evitar que las etiquetas se corten\n",
    "plt.tight_layout()\n",
    "\n",
    "# agregar el eje X\n",
    "plt.axhline(y=0, color='black', linestyle='--')"
   ]
  },
  {
   "cell_type": "markdown",
   "metadata": {},
   "source": [
    "Observamos como en los dos gráficos anteriores la volatilidad de la muestra B con relación a la muestra A que a pesar de subir y bajar pronunciadamente tiene una aparente intención de estabilizarse al final de la prueba siendo una diferencia relativa positiva, es decir muestra un crecimiento de la muestra B sobre A. "
   ]
  },
  {
   "cell_type": "markdown",
   "metadata": {},
   "source": [
    "### Calcula la tasa de conversión de cada grupo como la relación entre los pedidos y el número de visitas de cada día. Representa gráficamente las tasas de conversión diarias de los dos grupos y describe la diferencia. Saca conclusiones y haz conjeturas"
   ]
  },
  {
   "cell_type": "code",
   "execution_count": 15,
   "metadata": {},
   "outputs": [
    {
     "data": {
      "text/plain": [
       "<matplotlib.legend.Legend at 0x7f4cdfc16d30>"
      ]
     },
     "execution_count": 15,
     "metadata": {},
     "output_type": "execute_result"
    },
    {
     "data": {
      "image/png": "[encoded data removed]",
      "text/plain": [
       "<Figure size 640x480 with 1 Axes>"
      ]
     },
     "metadata": {},
     "output_type": "display_data"
    }
   ],
   "source": [
    "# calcular la conversión acumulada\n",
    "cumulativeData['conversion'] = cumulativeData['orders']/cumulativeData['visitors']\n",
    "\n",
    "# seleccionar datos en el grupo A\n",
    "cumulativeDataA = cumulativeData[cumulativeData['group']=='A']\n",
    "\n",
    "# seleccionar datos en el grupo B\n",
    "cumulativeDataB = cumulativeData[cumulativeData['group']=='B']\n",
    "\n",
    "# trazar los gráficos\n",
    "plt.plot(cumulativeDataA['date'], cumulativeDataA['conversion'], label='A')\n",
    "plt.plot(cumulativeDataB['date'], cumulativeDataB['conversion'], label='B')\n",
    "\n",
    "# Rotar las etiquetas del eje X a 45 grados\n",
    "plt.xticks(rotation=45)\n",
    "\n",
    "# Agregar título y etiquetas a los ejes\n",
    "plt.title('Tasa de conversión por grupo', fontsize=16)\n",
    "plt.xlabel('Fecha', fontsize=12)\n",
    "plt.ylabel('Conversión', fontsize=12)\n",
    "\n",
    "# Mostrar la leyenda\n",
    "plt.legend(title='Grupos', fontsize=10)\n",
    "\n",
    "# Ajustar los márgenes del gráfico para evitar que las etiquetas se corten\n",
    "plt.tight_layout()\n",
    "\n",
    "plt.legend()"
   ]
  },
  {
   "cell_type": "markdown",
   "metadata": {},
   "source": [
    "Observamos que a partir del 5 dia de prueba la conversión en los pedidos se transpone y comienza a presentar una tendencia de estabilización de las muestras A y B con una diferencia de 0.005 positiva para la conversión en la muestra B. "
   ]
  },
  {
   "cell_type": "markdown",
   "metadata": {},
   "source": []
  },
  {
   "cell_type": "code",
   "execution_count": 16,
   "metadata": {},
   "outputs": [
    {
     "data": {
      "text/plain": [
       "(18109.0, 18140.0, -0.6, 0.6)"
      ]
     },
     "execution_count": 16,
     "metadata": {},
     "output_type": "execute_result"
    },
    {
     "data": {
      "image/png": "[encoded data removed]",
      "text/plain": [
       "<Figure size 640x480 with 1 Axes>"
      ]
     },
     "metadata": {},
     "output_type": "display_data"
    }
   ],
   "source": [
    "mergedCumulativeConversions = cumulativeDataA[['date','conversion']].merge(cumulativeDataB[['date','conversion']], left_on='date', right_on='date', how='left', suffixes=['A', 'B'])\n",
    "\n",
    "plt.plot(mergedCumulativeConversions['date'], mergedCumulativeConversions['conversionB']/mergedCumulativeConversions['conversionA']-1)\n",
    "\n",
    "# Rotar las etiquetas del eje X a 45 grados\n",
    "plt.xticks(rotation=45)\n",
    "\n",
    "# Agregar título y etiquetas a los ejes\n",
    "plt.title('Diferencia relativa para las tasas de conversión acumuladas', fontsize=16)\n",
    "plt.xlabel('Fecha', fontsize=12)\n",
    "plt.ylabel('Conversión', fontsize=12)\n",
    "\n",
    "# Ajustar los márgenes del gráfico para evitar que las etiquetas se corten\n",
    "plt.tight_layout()\n",
    "\n",
    "plt.axhline(y=0, color='black', linestyle='--')\n",
    "plt.axhline(y=-0.1, color='grey', linestyle='--')\n",
    "plt.axis([pd.to_datetime(\"2019-08-01\"), pd.to_datetime('2019-09-01'), -0.6, 0.6])"
   ]
  },
  {
   "cell_type": "markdown",
   "metadata": {},
   "source": [
    "Observamos que la muestra B tiene un crecimiento al presentar una estabilizacion. "
   ]
  },
  {
   "cell_type": "markdown",
   "metadata": {},
   "source": [
    "<div class=\"alert alert-block alert-success\">\n",
    "<b>Comentario del revisor</b> <a class=\"tocSkip\"></a><br>\n",
    "\n",
    "<b>Éxito</b> - ¡Gran trabajo en esta sección! La claridad y el detalle en tus gráficos son impresionantes, y las conclusiones que extraes son precisas y bien fundamentadas. Has abordado de manera efectiva el análisis del tamaño de pedido promedio, las diferencias relativas entre los grupos, y las tasas de conversión, proporcionando un panorama claro y bien respaldado con visualizaciones. Esto demuestra un sólido entendimiento del análisis de datos y una capacidad para comunicar hallazgos de manera efectiva. ¡Sigue así, estás haciendo un excelente trabajo! 😊\n",
    "\n",
    "</div>\n"
   ]
  },
  {
   "cell_type": "markdown",
   "metadata": {},
   "source": [
    "### Traza un gráfico de dispersión del número de pedidos por usuario. Haz conclusiones y conjeturas"
   ]
  },
  {
   "cell_type": "code",
   "execution_count": 17,
   "metadata": {},
   "outputs": [
    {
     "name": "stdout",
     "output_type": "stream",
     "text": [
      "          userId  orders\n",
      "1023  4256040402      11\n",
      "591   2458001652      11\n",
      "569   2378935119       9\n",
      "487   2038680547       8\n",
      "44     199603092       5\n",
      "744   3062433592       5\n",
      "55     237748145       5\n",
      "917   3803269165       5\n",
      "299   1230306981       5\n",
      "897   3717692402       5\n"
     ]
    }
   ],
   "source": [
    "ordersByUsers = (\n",
    "    orders.groupby('visitorId', as_index=False)\n",
    "    .agg({'transactionId': pd.Series.nunique})\n",
    ")\n",
    "\n",
    "ordersByUsers.columns = ['userId', 'orders']\n",
    "\n",
    "print(ordersByUsers.sort_values(by='orders', ascending=False).head(10))"
   ]
  },
  {
   "cell_type": "code",
   "execution_count": 18,
   "metadata": {},
   "outputs": [
    {
     "data": {
      "text/plain": [
       "(array([937.,  64.,  17.,   3.,   6.,   0.,   0.,   1.,   1.,   2.]),\n",
       " array([ 1.,  2.,  3.,  4.,  5.,  6.,  7.,  8.,  9., 10., 11.]),\n",
       " <BarContainer object of 10 artists>)"
      ]
     },
     "execution_count": 18,
     "metadata": {},
     "output_type": "execute_result"
    },
    {
     "data": {
      "image/png": "[encoded data removed]",
      "text/plain": [
       "<Figure size 640x480 with 1 Axes>"
      ]
     },
     "metadata": {},
     "output_type": "display_data"
    }
   ],
   "source": [
    "plt.hist(ordersByUsers['orders'])"
   ]
  },
  {
   "cell_type": "code",
   "execution_count": 19,
   "metadata": {},
   "outputs": [
    {
     "data": {
      "text/plain": [
       "<matplotlib.collections.PathCollection at 0x7f4cdfae65e0>"
      ]
     },
     "execution_count": 19,
     "metadata": {},
     "output_type": "execute_result"
    },
    {
     "data": {
      "image/png": "[encoded data removed]",
      "text/plain": [
       "<Figure size 640x480 with 1 Axes>"
      ]
     },
     "metadata": {},
     "output_type": "display_data"
    }
   ],
   "source": [
    "x_values = pd.Series(range(0,len(ordersByUsers)))\n",
    "\n",
    "plt.scatter(x_values, ordersByUsers['orders'])"
   ]
  },
  {
   "cell_type": "markdown",
   "metadata": {},
   "source": [
    "Observamos que la mayor parte del número de pedidos se concentra hasta 2 y por encima de este valor se puede evidenciar los valores atípicos."
   ]
  },
  {
   "cell_type": "code",
   "execution_count": 20,
   "metadata": {},
   "outputs": [
    {
     "name": "stdout",
     "output_type": "stream",
     "text": [
      "11\n",
      "1\n"
     ]
    }
   ],
   "source": [
    "print(ordersByUsers['orders'].max())\n",
    "print(ordersByUsers['orders'].min())"
   ]
  },
  {
   "cell_type": "markdown",
   "metadata": {},
   "source": [
    "Observamos que el número de pedidos mínimo es 1 y el máximo es 11. También se puede determinar que la mayor parte de número de pedidos se concentra hasta 2 y por encima de esto se considera como valores atípicos que distorsionan la muestra."
   ]
  },
  {
   "cell_type": "markdown",
   "metadata": {},
   "source": [
    "### Calcula los percentiles 95 y 99 del número de pedidos por usuario. Define el punto en el cual un punto de datos se convierte en una anomalía"
   ]
  },
  {
   "cell_type": "code",
   "execution_count": 21,
   "metadata": {},
   "outputs": [
    {
     "name": "stdout",
     "output_type": "stream",
     "text": [
      "[2. 4.]\n"
     ]
    }
   ],
   "source": [
    "print(np.percentile(ordersByUsers['orders'], [95, 99]))"
   ]
  },
  {
   "cell_type": "markdown",
   "metadata": {},
   "source": [
    "Observamos que el 5% de los valores se consideran como valores atípicos que son mayores a 2 y el 1% son los valores atípicos más extremos."
   ]
  },
  {
   "cell_type": "markdown",
   "metadata": {},
   "source": [
    "### Traza un gráfico de dispersión de los precios de los pedidos. Haz conclusiones y conjeturas"
   ]
  },
  {
   "cell_type": "code",
   "execution_count": 22,
   "metadata": {},
   "outputs": [
    {
     "data": {
      "text/plain": [
       "(array([1.195e+03, 1.000e+00, 0.000e+00, 0.000e+00, 0.000e+00, 0.000e+00,\n",
       "        0.000e+00, 0.000e+00, 0.000e+00, 1.000e+00]),\n",
       " array([5.000000e+00, 1.996540e+03, 3.988080e+03, 5.979620e+03,\n",
       "        7.971160e+03, 9.962700e+03, 1.195424e+04, 1.394578e+04,\n",
       "        1.593732e+04, 1.792886e+04, 1.992040e+04]),\n",
       " <BarContainer object of 10 artists>)"
      ]
     },
     "execution_count": 22,
     "metadata": {},
     "output_type": "execute_result"
    },
    {
     "data": {
      "image/png": "[encoded data removed]",
      "text/plain": [
       "<Figure size 640x480 with 1 Axes>"
      ]
     },
     "metadata": {},
     "output_type": "display_data"
    }
   ],
   "source": [
    "plt.hist(orders['revenue'])"
   ]
  },
  {
   "cell_type": "code",
   "execution_count": 23,
   "metadata": {},
   "outputs": [
    {
     "data": {
      "text/plain": [
       "<matplotlib.collections.PathCollection at 0x7f4cdf9c4850>"
      ]
     },
     "execution_count": 23,
     "metadata": {},
     "output_type": "execute_result"
    },
    {
     "data": {
      "image/png": "[encoded data removed]",
      "text/plain": [
       "<Figure size 640x480 with 1 Axes>"
      ]
     },
     "metadata": {},
     "output_type": "display_data"
    }
   ],
   "source": [
    "x_values = pd.Series(range(0, len(orders['revenue'])))\n",
    "plt.scatter(x_values, orders['revenue'])"
   ]
  },
  {
   "cell_type": "markdown",
   "metadata": {},
   "source": [
    "Observamos que la mayor parte de los precios de pedidos se concentra hasta 500  y por encima de este valor se puede evidenciar los valores atípicos que son pocos pero influyen por ser muy altos."
   ]
  },
  {
   "cell_type": "code",
   "execution_count": 24,
   "metadata": {},
   "outputs": [
    {
     "name": "stdout",
     "output_type": "stream",
     "text": [
      "19920.4\n",
      "5.0\n",
      "131.49164578111947\n",
      "50.2\n"
     ]
    }
   ],
   "source": [
    "print(orders['revenue'].max())\n",
    "print(orders['revenue'].min())\n",
    "print(orders['revenue'].mean())\n",
    "print(orders['revenue'].median())"
   ]
  },
  {
   "cell_type": "markdown",
   "metadata": {},
   "source": [
    "Observamos que el precio de pedidos mínimo es 5 y el máximo es 19920. También se puede determinar que la mayor parte del precio de pedidos se concentra hasta 500 y por encima de esto se considera como valores atípicos que distorsionan la muestra."
   ]
  },
  {
   "cell_type": "markdown",
   "metadata": {},
   "source": [
    "<div class=\"alert alert-block alert-warning\">\n",
    "<b>Comentario del revisor</b> <a class=\"tocSkip\"></a><br>\n",
    "\n",
    "<b>Atención</b> ⚠️ - Aunque la traducción de la tarea pide un gráfico de dispersión, es más apropiado utilizar un histograma o un gráfico de barras para representar el número de pedidos por usuario en este caso. Estas visualizaciones son más efectivas para mostrar distribuciones y resaltar valores atípicos, especialmente cuando los datos tienen una frecuencia acumulada significativa en ciertos rangos, como es evidente en este análisis.\n",
    "\n",
    "El gráfico de dispersión puede no ser tan informativo aquí, ya que los datos parecen tener una estructura categórica con un rango pequeño de valores (número de pedidos). Usar un histograma mejora la claridad y permite identificar fácilmente las concentraciones y anomalías en los datos.\n",
    "\n",
    "¡Sigue con el gran trabajo y considera ajustar la visualización para maximizar la claridad de tus hallazgos! 😊\n",
    "\n",
    "</div>\n"
   ]
  },
  {
   "cell_type": "markdown",
   "metadata": {},
   "source": [
    "### Calcula los percentiles 95 y 99 de los precios de los pedidos. Define el punto en el cual un punto de datos se convierte en una anomalía"
   ]
  },
  {
   "cell_type": "code",
   "execution_count": 25,
   "metadata": {},
   "outputs": [
    {
     "name": "stdout",
     "output_type": "stream",
     "text": [
      "[435.54  900.904]\n"
     ]
    }
   ],
   "source": [
    "print(np.percentile(orders['revenue'], [95, 99]))"
   ]
  },
  {
   "cell_type": "markdown",
   "metadata": {},
   "source": [
    "Observamos que el 5% de los valores se consideran como valores atípicos que son mayores a 500 y el 1% son los valores atípicos más extremos."
   ]
  },
  {
   "cell_type": "markdown",
   "metadata": {},
   "source": [
    "### Encuentra la significancia estadística de la diferencia en la conversión entre los grupos utilizando los datos en bruto. Haz conclusiones y conjeturas"
   ]
  },
  {
   "cell_type": "code",
   "execution_count": 26,
   "metadata": {},
   "outputs": [
    {
     "name": "stdout",
     "output_type": "stream",
     "text": [
      "0.017\n",
      "0.138\n"
     ]
    }
   ],
   "source": [
    "ordersByUsersA = orders[orders['group']=='A'].groupby('visitorId', as_index=False).agg({'transactionId' : pd.Series.nunique})\n",
    "ordersByUsersA.columns = ['userId', 'orders']\n",
    "\n",
    "ordersByUsersB = orders[orders['group']=='B'].groupby('visitorId', as_index=False).agg({'transactionId' : pd.Series.nunique})\n",
    "ordersByUsersB.columns = ['userId', 'orders']\n",
    "\n",
    "sampleA = pd.concat([ordersByUsersA['orders'],pd.Series(0, index=np.arange(visits[visits['group']=='A']['visits'].sum() - len(ordersByUsersA['orders'])), name='orders')],axis=0)\n",
    "\n",
    "sampleB = pd.concat([ordersByUsersB['orders'],pd.Series(0, index=np.arange(visits[visits['group']=='B']['visits'].sum() - len(ordersByUsersB['orders'])), name='orders')],axis=0)\n",
    "\n",
    "print(\"{0:.3f}\".format(stats.mannwhitneyu(sampleA, sampleB)[1]))\n",
    "\n",
    "print(\"{0:.3f}\".format(sampleB.mean()/sampleA.mean()-1))"
   ]
  },
  {
   "cell_type": "markdown",
   "metadata": {},
   "source": [
    "Observamos que la primera fila de la salida nos da el valor p 0.017, que es mayor que 0.05. Entonces, podemos rechazar la hipótesis nula de que no hay una diferencia estadísticamente significativa en la conversión entre los grupos. Pero la ganancia relativa del grupo B es del 13.8%. Esta ganancia ratifica lo expuesto y observado en los gráficos anteriores donde se ve la volatilidad en favor de la muestra B sobre A tanto en los ingresos acumulados, número de pedidos y tamaño promedio en los pedidos. La diferencia significativa presente en las muestras A y B podría deberse a que hay un mayor número de usuarios que realian muchos pedidos y estos están dentro de la muestra B."
   ]
  },
  {
   "cell_type": "markdown",
   "metadata": {},
   "source": [
    "### Encuentra la significancia estadística de la diferencia en el tamaño promedio de pedido entre los grupos utilizando los datos en bruto. Haz conclusiones y conjeturas"
   ]
  },
  {
   "cell_type": "code",
   "execution_count": 27,
   "metadata": {},
   "outputs": [
    {
     "name": "stdout",
     "output_type": "stream",
     "text": [
      "0.692\n",
      "0.252\n"
     ]
    }
   ],
   "source": [
    "print('{0:.3f}'.format(stats.mannwhitneyu(orders[orders['group']=='A']['revenue'], orders[orders['group']=='B']['revenue'])[1]))\n",
    "print('{0:.3f}'.format(orders[orders['group']=='B']['revenue'].mean()/orders[orders['group']=='A']['revenue'].mean()-1))"
   ]
  },
  {
   "cell_type": "markdown",
   "metadata": {},
   "source": [
    "Observamos que el valor p es notablemente superior a 0.05, por lo que no hay motivo para rechazar la hipótesis nula y concluir que el tamaño promedio de los pedidos difiere entre los grupos. No obstante, el tamaño de pedido promedio para el grupo B es mucho más grande en un 25.2% que para el grupo A. Esto ratifica lo expuesto anteriormente y es posible que los valores atípicos más extremos esten dentro del grupo B para explicar porque es mayor el tamaño promedio en los pedidos. "
   ]
  },
  {
   "cell_type": "markdown",
   "metadata": {},
   "source": [
    "### Encuentra la significancia estadística de la diferencia en la conversión entre los grupos utilizando los datos filtrados. Haz conclusiones y conjeturas"
   ]
  },
  {
   "cell_type": "code",
   "execution_count": 28,
   "metadata": {},
   "outputs": [
    {
     "name": "stdout",
     "output_type": "stream",
     "text": [
      "Index(['userId', 'orders'], dtype='object')\n",
      "Index(['userId', 'orders'], dtype='object')\n"
     ]
    }
   ],
   "source": [
    "print(ordersByUsersA.columns)\n",
    "print(ordersByUsersB.columns)"
   ]
  },
  {
   "cell_type": "code",
   "execution_count": 29,
   "metadata": {},
   "outputs": [
    {
     "name": "stdout",
     "output_type": "stream",
     "text": [
      "18    199603092\n",
      "23    237748145\n",
      "37    249864742\n",
      "68    457167155\n",
      "68    611059232\n",
      "dtype: int64\n",
      "(21,)\n"
     ]
    }
   ],
   "source": [
    "usersWithManyOrders = pd.concat([ordersByUsersA[ordersByUsersA['orders'] > 2]['userId'], ordersByUsersB[ordersByUsersB['orders'] > 2]['userId']], axis = 0)\n",
    "usersWithExpensiveOrders = orders[orders['revenue'] > 5000]['visitorId']\n",
    "abnormalUsers = pd.concat([usersWithManyOrders, usersWithExpensiveOrders], axis = 0).drop_duplicates().sort_values()\n",
    "print(abnormalUsers.head(5))\n",
    "print(abnormalUsers.shape)"
   ]
  },
  {
   "cell_type": "markdown",
   "metadata": {},
   "source": [
    "Observamos que hay 21 valores atípicos que se debe revisar como afectan al momento de no ser considerados."
   ]
  },
  {
   "cell_type": "code",
   "execution_count": 30,
   "metadata": {},
   "outputs": [
    {
     "name": "stdout",
     "output_type": "stream",
     "text": [
      "0.013\n",
      "0.168\n"
     ]
    }
   ],
   "source": [
    "sampleAFiltered = pd.concat([ordersByUsersA[np.logical_not(ordersByUsersA['userId'].isin(abnormalUsers))]['orders'],pd.Series(0, index=np.arange(visits[visits['group']=='A']['visits'].sum() - len(ordersByUsersA['orders'])),name='orders')],axis=0)\n",
    "\n",
    "sampleBFiltered = pd.concat([ordersByUsersB[np.logical_not(ordersByUsersB['userId'].isin(abnormalUsers))]['orders'],pd.Series(0, index=np.arange(visits[visits['group']=='B']['visits'].sum() - len(ordersByUsersB['orders'])),name='orders')],axis=0)\n",
    "\n",
    "print(\"{0:.3f}\".format(stats.mannwhitneyu(sampleAFiltered, sampleBFiltered)[1]))\n",
    "\n",
    "print(\"{0:.3f}\".format(sampleBFiltered.mean()/sampleAFiltered.mean()-1))"
   ]
  },
  {
   "cell_type": "markdown",
   "metadata": {},
   "source": [
    "Observamos que Los resultados de conversión casi no cambiaron. Se mantiene la tendencia de los resultados que incluyen los valores atípicos."
   ]
  },
  {
   "cell_type": "markdown",
   "metadata": {},
   "source": [
    "### Encuentra la significancia estadística de la diferencia en el tamaño promedio de pedido entre los grupos utilizando los datos filtrados. Haz conclusiones y conjeturas"
   ]
  },
  {
   "cell_type": "code",
   "execution_count": 31,
   "metadata": {},
   "outputs": [
    {
     "name": "stdout",
     "output_type": "stream",
     "text": [
      "0.670\n",
      "-0.055\n"
     ]
    }
   ],
   "source": [
    "# Muestra el valor p calculado con la prueba U de Mann-Whitney\n",
    "print(\"{0:.3f}\".format(stats.mannwhitneyu(\n",
    "    orders[np.logical_and(\n",
    "        orders['group']=='A',  # Selecciona datos en el grupo A\n",
    "        np.logical_not(orders['visitorId'].isin(abnormalUsers)))]['revenue'],  # Excluye los usuarios anormales y selecciona los datos de ingreso para el grupo A\n",
    "    orders[np.logical_and(\n",
    "        orders['group']=='B',  # Selecciona datos en el grupo B\n",
    "        np.logical_not(orders['visitorId'].isin(abnormalUsers)))]['revenue']  # Excluye los usuarios anormales y selecciona los datos de ingreso para el grupo B\n",
    ")[1]))  # Extrae el valor p de los resultados de la prueba\n",
    "\n",
    "# Muestra la diferencia relativa en el ingreso medio entre los grupos B y A\n",
    "print(\"{0:.3f}\".format(\n",
    "    orders[np.logical_and(orders['group']=='B',  # Selecciona datos en el grupo B\n",
    "           np.logical_not(orders['visitorId'].isin(abnormalUsers)))]['revenue'].mean() /  # Calcula el ingreso medio para el grupo B\n",
    "    orders[np.logical_and(orders['group']=='A',  # Selecciona datos en el grupo A\n",
    "           np.logical_not(orders['visitorId'].isin(abnormalUsers)))]['revenue'].mean() - 1))  # Calcula el ingreso medio para el grupo A y muestra la diferencia relativa          "
   ]
  },
  {
   "cell_type": "markdown",
   "metadata": {},
   "source": [
    "Observamos que el valor p disminuyo pero es mayor que 0.05 por lo que no hay motivo para rechazar la hipótesis nula y concluir que el tamaño promedio de los pedidos difiere entre los grupos. Ahora la diferencia entre los segmentos presenta que la muestra B es un 5.5% menor que la muestra A. Esto se podría deber a que un valor atípico muy alto que estaba presente en la muestra B influia directamente en presentar una ganancia del 25.2%."
   ]
  },
  {
   "cell_type": "markdown",
   "metadata": {},
   "source": [
    "### Toma una decisión basada en los resultados de la prueba. Las decisiones posibles son: 1. Parar la prueba, considerar a uno de los grupos como líder. 2. Parar la prueba, concluir que no hay diferencia entre los grupos. 3. Continuar la prueba"
   ]
  },
  {
   "cell_type": "markdown",
   "metadata": {},
   "source": [
    "Concluimos de manera general que se debe parar la prueba basados en las siguientes observaciones: \n",
    "\n",
    "- Las diferencias encontradas antes de filtrar los datos eliminando los valores atípicos no son consistentes con los obtenidos antes de eliminarlos.\n",
    "- Las diferencias obtenidas con los datos filtrados indican que la muestra B presenta peores valores que la muestra A por lo que no es conveniente continuarcon la prueba."
   ]
  },
  {
   "cell_type": "markdown",
   "metadata": {},
   "source": [
    "<div class=\"alert alert-block alert-success\">\n",
    "<b>Comentario del revisor</b> <a class=\"tocSkip\"></a><br>\n",
    "\n",
    "<b>Éxito</b> - Has realizado un excelente trabajo al calcular los percentiles 95 y 99 para identificar valores atípicos y al analizar su impacto en la significancia estadística. La estructura de tu análisis es clara, y las conclusiones están bien fundamentadas en las métricas estadísticas. Además, la comparación de resultados entre los datos brutos y los filtrados muestra un entendimiento sólido de cómo los valores atípicos pueden influir en las pruebas estadísticas y los resultados generales.\n",
    "\n",
    "<b>Recomendación:</b> Para hacer tus conclusiones aún más sólidas, podrías complementar tu análisis discutiendo cómo los valores atípicos afectan las decisiones prácticas, como determinar si continuar o no con la prueba. También, elabora más sobre cómo estos hallazgos pueden informar futuros experimentos, por ejemplo, ajustando los criterios de exclusión o estableciendo límites para valores extremos desde el principio.\n",
    "\n",
    "¡Gran trabajo en esta sección, sigue así! 🚀\n",
    "</div>\n"
   ]
  },
  {
   "cell_type": "markdown",
   "metadata": {},
   "source": [
    "# Comentario General del Revisor\n",
    "\n",
    "<div class=\"alert alert-block alert-success\">\n",
    "\n",
    "<b>Comentario del revisor</b> <a class=\"tocSkip\"></a>\n",
    "\n",
    "¡Felicidades! Tu proyecto está **aprobado**. Has demostrado un excelente manejo del análisis de datos y la interpretación de resultados. Aquí hay un resumen de tus logros y algunas recomendaciones para continuar desarrollando tus habilidades:\n",
    "\n",
    "### **Aspectos Positivos**\n",
    "- **Calidad en la Exploración de Datos:** Verificaste cuidadosamente duplicados, valores ausentes y tipos de datos, asegurando una base sólida para el análisis.\n",
    "- **Frameworks de Priorización:** La implementación de ICE y RICE está bien realizada, con explicaciones claras y visualizaciones que resaltan las diferencias en el ranking de hipótesis.\n",
    "- **Análisis Gráfico y Estadístico:** Tus gráficos son claros, detallados y bien explicados. Además, utilizaste pruebas estadísticas como Mann-Whitney de manera efectiva para evaluar diferencias significativas.\n",
    "- **Identificación de Valores Atípicos:** Aplicaste un enfoque sólido para identificar y analizar outliers, mostrando cómo afectan los resultados.\n",
    "\n",
    "### **Áreas de Mejora**\n",
    "- **Impacto de los Valores Atípicos:** Aunque analizaste su influencia, podrías profundizar en cómo manejarlos de manera óptima en experimentos futuros.\n",
    "- **Visualizaciones Alternativas:** En ciertos casos, como el gráfico de dispersión para pedidos por usuario, un histograma o gráfico de barras podría ser más apropiado.\n",
    "- **Conclusiones Prácticas:** Intenta vincular tus hallazgos más estrechamente con decisiones prácticas, como ajustes en el diseño de pruebas o estrategias para mejorar la conversión.\n",
    "\n",
    "### **Recomendaciones Adicionales**\n",
    "- **Automatización de Procesos:** Considera construir funciones reutilizables para análisis recurrentes como la identificación de outliers y pruebas estadísticas.\n",
    "- **Exploración Avanzada:** Investiga técnicas de análisis más complejas, como la modelación predictiva, para enriquecer tus estudios.\n",
    "- **Comparación de Modelos:** En futuros proyectos, prueba con diferentes métodos para evaluar su efectividad y robustez.\n",
    "\n",
    "### **Conclusión**\n",
    "Tu trabajo refleja un enfoque analítico meticuloso y una habilidad clara para comunicar tus hallazgos de manera\n"
   ]
  },
  {
   "cell_type": "code",
   "execution_count": null,
   "metadata": {},
   "outputs": [],
   "source": []
  }
 ],
 "metadata": {
  "ExecuteTimeLog": [
   {
    "duration": 8,
    "start_time": "2025-01-13T15:31:35.003Z"
   },
   {
    "duration": 350,
    "start_time": "2025-01-13T15:34:51.441Z"
   },
   {
    "duration": 18,
    "start_time": "2025-01-13T15:36:04.538Z"
   },
   {
    "duration": 15,
    "start_time": "2025-01-13T15:40:41.617Z"
   },
   {
    "duration": 4,
    "start_time": "2025-01-13T15:41:09.061Z"
   },
   {
    "duration": 7,
    "start_time": "2025-01-13T15:49:01.411Z"
   },
   {
    "duration": 93,
    "start_time": "2025-01-13T15:50:34.513Z"
   },
   {
    "duration": 6,
    "start_time": "2025-01-13T15:51:01.763Z"
   },
   {
    "duration": 289,
    "start_time": "2025-01-13T16:10:15.126Z"
   },
   {
    "duration": 8,
    "start_time": "2025-01-13T16:10:15.418Z"
   },
   {
    "duration": 17,
    "start_time": "2025-01-13T16:10:15.428Z"
   },
   {
    "duration": 6,
    "start_time": "2025-01-13T16:10:15.446Z"
   },
   {
    "duration": 5,
    "start_time": "2025-01-13T16:10:15.454Z"
   },
   {
    "duration": 311,
    "start_time": "2025-01-13T16:11:14.288Z"
   },
   {
    "duration": 3,
    "start_time": "2025-01-13T16:11:14.601Z"
   },
   {
    "duration": 20,
    "start_time": "2025-01-13T16:11:14.606Z"
   },
   {
    "duration": 6,
    "start_time": "2025-01-13T16:11:14.644Z"
   },
   {
    "duration": 5,
    "start_time": "2025-01-13T16:11:14.652Z"
   },
   {
    "duration": 279,
    "start_time": "2025-01-13T16:11:49.315Z"
   },
   {
    "duration": 4,
    "start_time": "2025-01-13T16:11:49.596Z"
   },
   {
    "duration": 19,
    "start_time": "2025-01-13T16:11:49.602Z"
   },
   {
    "duration": 20,
    "start_time": "2025-01-13T16:11:49.623Z"
   },
   {
    "duration": 5,
    "start_time": "2025-01-13T16:11:49.645Z"
   },
   {
    "duration": 286,
    "start_time": "2025-01-13T16:12:47.317Z"
   },
   {
    "duration": 3,
    "start_time": "2025-01-13T16:12:47.605Z"
   },
   {
    "duration": 9,
    "start_time": "2025-01-13T16:12:47.609Z"
   },
   {
    "duration": 26,
    "start_time": "2025-01-13T16:12:47.621Z"
   },
   {
    "duration": 6,
    "start_time": "2025-01-13T16:12:47.648Z"
   },
   {
    "duration": 6,
    "start_time": "2025-01-13T16:12:47.656Z"
   },
   {
    "duration": 14,
    "start_time": "2025-01-13T16:19:03.790Z"
   },
   {
    "duration": 466,
    "start_time": "2025-01-13T16:21:35.988Z"
   },
   {
    "duration": 7,
    "start_time": "2025-01-13T16:22:52.952Z"
   },
   {
    "duration": 2594,
    "start_time": "2025-01-13T16:43:09.858Z"
   },
   {
    "duration": 3,
    "start_time": "2025-01-13T16:43:12.454Z"
   },
   {
    "duration": 9,
    "start_time": "2025-01-13T16:43:12.459Z"
   },
   {
    "duration": 16,
    "start_time": "2025-01-13T16:43:12.470Z"
   },
   {
    "duration": 7,
    "start_time": "2025-01-13T16:43:12.488Z"
   },
   {
    "duration": 5,
    "start_time": "2025-01-13T16:43:12.496Z"
   },
   {
    "duration": 44,
    "start_time": "2025-01-13T16:43:12.502Z"
   },
   {
    "duration": 7,
    "start_time": "2025-01-13T16:43:12.547Z"
   },
   {
    "duration": 490,
    "start_time": "2025-01-13T16:43:12.556Z"
   },
   {
    "duration": 293,
    "start_time": "2025-01-13T16:43:55.632Z"
   },
   {
    "duration": 6,
    "start_time": "2025-01-13T16:57:20.075Z"
   },
   {
    "duration": 337,
    "start_time": "2025-01-13T16:58:31.280Z"
   },
   {
    "duration": 333,
    "start_time": "2025-01-13T16:59:11.033Z"
   },
   {
    "duration": 370,
    "start_time": "2025-01-13T16:59:55.303Z"
   },
   {
    "duration": 414,
    "start_time": "2025-01-13T17:11:26.349Z"
   },
   {
    "duration": 367,
    "start_time": "2025-01-13T17:19:35.820Z"
   },
   {
    "duration": 332,
    "start_time": "2025-01-13T17:26:16.203Z"
   },
   {
    "duration": 831,
    "start_time": "2025-01-13T17:32:35.457Z"
   },
   {
    "duration": 3,
    "start_time": "2025-01-13T17:32:36.291Z"
   },
   {
    "duration": 10,
    "start_time": "2025-01-13T17:32:36.296Z"
   },
   {
    "duration": 18,
    "start_time": "2025-01-13T17:32:36.307Z"
   },
   {
    "duration": 7,
    "start_time": "2025-01-13T17:32:36.342Z"
   },
   {
    "duration": 6,
    "start_time": "2025-01-13T17:32:36.351Z"
   },
   {
    "duration": 7,
    "start_time": "2025-01-13T17:32:36.360Z"
   },
   {
    "duration": 7,
    "start_time": "2025-01-13T17:32:36.369Z"
   },
   {
    "duration": 366,
    "start_time": "2025-01-13T17:32:36.378Z"
   },
   {
    "duration": 12,
    "start_time": "2025-01-13T17:58:02.565Z"
   },
   {
    "duration": 346,
    "start_time": "2025-01-13T18:02:37.657Z"
   },
   {
    "duration": 154,
    "start_time": "2025-01-13T18:57:41.819Z"
   },
   {
    "duration": 2566,
    "start_time": "2025-01-13T18:59:42.632Z"
   },
   {
    "duration": 3,
    "start_time": "2025-01-13T18:59:45.200Z"
   },
   {
    "duration": 9,
    "start_time": "2025-01-13T18:59:45.205Z"
   },
   {
    "duration": 18,
    "start_time": "2025-01-13T18:59:45.215Z"
   },
   {
    "duration": 6,
    "start_time": "2025-01-13T18:59:45.244Z"
   },
   {
    "duration": 5,
    "start_time": "2025-01-13T18:59:45.252Z"
   },
   {
    "duration": 7,
    "start_time": "2025-01-13T18:59:45.258Z"
   },
   {
    "duration": 7,
    "start_time": "2025-01-13T18:59:45.267Z"
   },
   {
    "duration": 9,
    "start_time": "2025-01-13T18:59:45.276Z"
   },
   {
    "duration": 420,
    "start_time": "2025-01-13T18:59:45.287Z"
   },
   {
    "duration": 3,
    "start_time": "2025-01-13T18:59:45.709Z"
   },
   {
    "duration": 753,
    "start_time": "2025-01-13T19:02:35.719Z"
   },
   {
    "duration": 3,
    "start_time": "2025-01-13T19:02:36.474Z"
   },
   {
    "duration": 8,
    "start_time": "2025-01-13T19:02:36.479Z"
   },
   {
    "duration": 17,
    "start_time": "2025-01-13T19:02:36.490Z"
   },
   {
    "duration": 5,
    "start_time": "2025-01-13T19:02:36.509Z"
   },
   {
    "duration": 27,
    "start_time": "2025-01-13T19:02:36.516Z"
   },
   {
    "duration": 7,
    "start_time": "2025-01-13T19:02:36.544Z"
   },
   {
    "duration": 6,
    "start_time": "2025-01-13T19:02:36.552Z"
   },
   {
    "duration": 388,
    "start_time": "2025-01-13T19:02:36.559Z"
   },
   {
    "duration": 3,
    "start_time": "2025-01-13T19:02:36.950Z"
   },
   {
    "duration": 409,
    "start_time": "2025-01-13T21:07:35.119Z"
   },
   {
    "duration": 837,
    "start_time": "2025-01-13T21:08:01.335Z"
   },
   {
    "duration": 3,
    "start_time": "2025-01-13T21:08:02.174Z"
   },
   {
    "duration": 8,
    "start_time": "2025-01-13T21:08:02.179Z"
   },
   {
    "duration": 18,
    "start_time": "2025-01-13T21:08:02.189Z"
   },
   {
    "duration": 7,
    "start_time": "2025-01-13T21:08:02.209Z"
   },
   {
    "duration": 26,
    "start_time": "2025-01-13T21:08:02.218Z"
   },
   {
    "duration": 6,
    "start_time": "2025-01-13T21:08:02.246Z"
   },
   {
    "duration": 7,
    "start_time": "2025-01-13T21:08:02.254Z"
   },
   {
    "duration": 420,
    "start_time": "2025-01-13T21:08:02.263Z"
   },
   {
    "duration": 280,
    "start_time": "2025-01-13T21:08:02.685Z"
   },
   {
    "duration": 856,
    "start_time": "2025-01-13T21:09:20.897Z"
   },
   {
    "duration": 3,
    "start_time": "2025-01-13T21:09:21.755Z"
   },
   {
    "duration": 7,
    "start_time": "2025-01-13T21:09:21.760Z"
   },
   {
    "duration": 17,
    "start_time": "2025-01-13T21:09:21.769Z"
   },
   {
    "duration": 7,
    "start_time": "2025-01-13T21:09:21.787Z"
   },
   {
    "duration": 4,
    "start_time": "2025-01-13T21:09:21.795Z"
   },
   {
    "duration": 6,
    "start_time": "2025-01-13T21:09:21.801Z"
   },
   {
    "duration": 38,
    "start_time": "2025-01-13T21:09:21.809Z"
   },
   {
    "duration": 370,
    "start_time": "2025-01-13T21:09:21.849Z"
   },
   {
    "duration": 450,
    "start_time": "2025-01-13T21:09:22.222Z"
   },
   {
    "duration": 885,
    "start_time": "2025-01-13T21:16:13.986Z"
   },
   {
    "duration": 3,
    "start_time": "2025-01-13T21:16:14.873Z"
   },
   {
    "duration": 8,
    "start_time": "2025-01-13T21:16:14.878Z"
   },
   {
    "duration": 18,
    "start_time": "2025-01-13T21:16:14.887Z"
   },
   {
    "duration": 3,
    "start_time": "2025-01-13T21:16:14.906Z"
   },
   {
    "duration": 33,
    "start_time": "2025-01-13T21:16:14.911Z"
   },
   {
    "duration": 5,
    "start_time": "2025-01-13T21:16:14.945Z"
   },
   {
    "duration": 6,
    "start_time": "2025-01-13T21:16:14.952Z"
   },
   {
    "duration": 7,
    "start_time": "2025-01-13T21:16:14.960Z"
   },
   {
    "duration": 434,
    "start_time": "2025-01-13T21:16:14.969Z"
   },
   {
    "duration": 454,
    "start_time": "2025-01-13T21:16:15.405Z"
   },
   {
    "duration": 765,
    "start_time": "2025-01-13T21:36:51.115Z"
   },
   {
    "duration": 3,
    "start_time": "2025-01-13T21:36:51.882Z"
   },
   {
    "duration": 8,
    "start_time": "2025-01-13T21:36:51.886Z"
   },
   {
    "duration": 17,
    "start_time": "2025-01-13T21:36:51.896Z"
   },
   {
    "duration": 3,
    "start_time": "2025-01-13T21:36:51.915Z"
   },
   {
    "duration": 8,
    "start_time": "2025-01-13T21:36:51.942Z"
   },
   {
    "duration": 8,
    "start_time": "2025-01-13T21:36:51.953Z"
   },
   {
    "duration": 7,
    "start_time": "2025-01-13T21:36:51.963Z"
   },
   {
    "duration": 6,
    "start_time": "2025-01-13T21:36:51.972Z"
   },
   {
    "duration": 427,
    "start_time": "2025-01-13T21:36:51.980Z"
   },
   {
    "duration": 396,
    "start_time": "2025-01-13T21:36:52.409Z"
   },
   {
    "duration": 775,
    "start_time": "2025-01-13T21:38:27.211Z"
   },
   {
    "duration": 2,
    "start_time": "2025-01-13T21:38:27.988Z"
   },
   {
    "duration": 8,
    "start_time": "2025-01-13T21:38:27.992Z"
   },
   {
    "duration": 16,
    "start_time": "2025-01-13T21:38:28.003Z"
   },
   {
    "duration": 24,
    "start_time": "2025-01-13T21:38:28.021Z"
   },
   {
    "duration": 6,
    "start_time": "2025-01-13T21:38:28.046Z"
   },
   {
    "duration": 5,
    "start_time": "2025-01-13T21:38:28.054Z"
   },
   {
    "duration": 9,
    "start_time": "2025-01-13T21:38:28.060Z"
   },
   {
    "duration": 6,
    "start_time": "2025-01-13T21:38:28.071Z"
   },
   {
    "duration": 420,
    "start_time": "2025-01-13T21:38:28.079Z"
   },
   {
    "duration": 580,
    "start_time": "2025-01-13T21:38:28.502Z"
   },
   {
    "duration": 820,
    "start_time": "2025-01-13T21:44:42.116Z"
   },
   {
    "duration": 6,
    "start_time": "2025-01-13T21:44:42.938Z"
   },
   {
    "duration": 9,
    "start_time": "2025-01-13T21:44:42.945Z"
   },
   {
    "duration": 22,
    "start_time": "2025-01-13T21:44:42.957Z"
   },
   {
    "duration": 5,
    "start_time": "2025-01-13T21:44:42.980Z"
   },
   {
    "duration": 7,
    "start_time": "2025-01-13T21:44:42.987Z"
   },
   {
    "duration": 5,
    "start_time": "2025-01-13T21:44:42.996Z"
   },
   {
    "duration": 42,
    "start_time": "2025-01-13T21:44:43.003Z"
   },
   {
    "duration": 8,
    "start_time": "2025-01-13T21:44:43.047Z"
   },
   {
    "duration": 393,
    "start_time": "2025-01-13T21:44:43.058Z"
   },
   {
    "duration": 576,
    "start_time": "2025-01-13T21:44:43.453Z"
   },
   {
    "duration": 845,
    "start_time": "2025-01-13T21:46:00.138Z"
   },
   {
    "duration": 3,
    "start_time": "2025-01-13T21:46:00.985Z"
   },
   {
    "duration": 8,
    "start_time": "2025-01-13T21:46:00.990Z"
   },
   {
    "duration": 18,
    "start_time": "2025-01-13T21:46:01.000Z"
   },
   {
    "duration": 3,
    "start_time": "2025-01-13T21:46:01.019Z"
   },
   {
    "duration": 7,
    "start_time": "2025-01-13T21:46:01.043Z"
   },
   {
    "duration": 9,
    "start_time": "2025-01-13T21:46:01.051Z"
   },
   {
    "duration": 6,
    "start_time": "2025-01-13T21:46:01.062Z"
   },
   {
    "duration": 8,
    "start_time": "2025-01-13T21:46:01.070Z"
   },
   {
    "duration": 420,
    "start_time": "2025-01-13T21:46:01.080Z"
   },
   {
    "duration": 601,
    "start_time": "2025-01-13T21:46:01.501Z"
   },
   {
    "duration": 767,
    "start_time": "2025-01-13T21:50:07.610Z"
   },
   {
    "duration": 3,
    "start_time": "2025-01-13T21:50:08.379Z"
   },
   {
    "duration": 7,
    "start_time": "2025-01-13T21:50:08.384Z"
   },
   {
    "duration": 16,
    "start_time": "2025-01-13T21:50:08.393Z"
   },
   {
    "duration": 3,
    "start_time": "2025-01-13T21:50:08.410Z"
   },
   {
    "duration": 31,
    "start_time": "2025-01-13T21:50:08.415Z"
   },
   {
    "duration": 6,
    "start_time": "2025-01-13T21:50:08.448Z"
   },
   {
    "duration": 7,
    "start_time": "2025-01-13T21:50:08.456Z"
   },
   {
    "duration": 6,
    "start_time": "2025-01-13T21:50:08.465Z"
   },
   {
    "duration": 398,
    "start_time": "2025-01-13T21:50:08.473Z"
   },
   {
    "duration": 235,
    "start_time": "2025-01-13T21:50:08.873Z"
   },
   {
    "duration": 129,
    "start_time": "2025-01-13T21:51:36.062Z"
   },
   {
    "duration": 306,
    "start_time": "2025-01-13T21:55:06.437Z"
   },
   {
    "duration": 793,
    "start_time": "2025-01-13T21:55:34.219Z"
   },
   {
    "duration": 3,
    "start_time": "2025-01-13T21:55:35.015Z"
   },
   {
    "duration": 8,
    "start_time": "2025-01-13T21:55:35.020Z"
   },
   {
    "duration": 16,
    "start_time": "2025-01-13T21:55:35.042Z"
   },
   {
    "duration": 3,
    "start_time": "2025-01-13T21:55:35.059Z"
   },
   {
    "duration": 7,
    "start_time": "2025-01-13T21:55:35.064Z"
   },
   {
    "duration": 5,
    "start_time": "2025-01-13T21:55:35.073Z"
   },
   {
    "duration": 8,
    "start_time": "2025-01-13T21:55:35.079Z"
   },
   {
    "duration": 6,
    "start_time": "2025-01-13T21:55:35.088Z"
   },
   {
    "duration": 422,
    "start_time": "2025-01-13T21:55:35.097Z"
   },
   {
    "duration": 221,
    "start_time": "2025-01-13T21:55:35.521Z"
   },
   {
    "duration": 280,
    "start_time": "2025-01-13T21:55:35.744Z"
   },
   {
    "duration": 294,
    "start_time": "2025-01-13T22:00:32.048Z"
   },
   {
    "duration": 274,
    "start_time": "2025-01-13T22:01:14.356Z"
   },
   {
    "duration": 305,
    "start_time": "2025-01-13T22:01:39.514Z"
   },
   {
    "duration": 217,
    "start_time": "2025-01-13T22:05:14.933Z"
   },
   {
    "duration": 275,
    "start_time": "2025-01-13T22:09:35.897Z"
   },
   {
    "duration": 269,
    "start_time": "2025-01-13T22:10:00.277Z"
   },
   {
    "duration": 305,
    "start_time": "2025-01-13T22:10:44.224Z"
   },
   {
    "duration": 265,
    "start_time": "2025-01-13T22:17:17.698Z"
   },
   {
    "duration": 2568,
    "start_time": "2025-01-14T09:38:09.179Z"
   },
   {
    "duration": 3,
    "start_time": "2025-01-14T09:38:11.749Z"
   },
   {
    "duration": 8,
    "start_time": "2025-01-14T09:38:11.753Z"
   },
   {
    "duration": 19,
    "start_time": "2025-01-14T09:38:11.763Z"
   },
   {
    "duration": 3,
    "start_time": "2025-01-14T09:38:11.784Z"
   },
   {
    "duration": 21,
    "start_time": "2025-01-14T09:38:11.789Z"
   },
   {
    "duration": 6,
    "start_time": "2025-01-14T09:38:11.811Z"
   },
   {
    "duration": 7,
    "start_time": "2025-01-14T09:38:11.818Z"
   },
   {
    "duration": 5,
    "start_time": "2025-01-14T09:38:11.827Z"
   },
   {
    "duration": 442,
    "start_time": "2025-01-14T09:38:11.835Z"
   },
   {
    "duration": 235,
    "start_time": "2025-01-14T09:38:12.279Z"
   },
   {
    "duration": 281,
    "start_time": "2025-01-14T09:38:12.516Z"
   },
   {
    "duration": 290,
    "start_time": "2025-01-14T09:38:12.799Z"
   },
   {
    "duration": 304,
    "start_time": "2025-01-14T09:38:13.091Z"
   },
   {
    "duration": 284,
    "start_time": "2025-01-14T09:38:13.397Z"
   },
   {
    "duration": 774,
    "start_time": "2025-01-14T09:56:16.266Z"
   },
   {
    "duration": 4,
    "start_time": "2025-01-14T09:56:17.041Z"
   },
   {
    "duration": 8,
    "start_time": "2025-01-14T09:56:17.046Z"
   },
   {
    "duration": 17,
    "start_time": "2025-01-14T09:56:17.056Z"
   },
   {
    "duration": 3,
    "start_time": "2025-01-14T09:56:17.074Z"
   },
   {
    "duration": 28,
    "start_time": "2025-01-14T09:56:17.079Z"
   },
   {
    "duration": 6,
    "start_time": "2025-01-14T09:56:17.108Z"
   },
   {
    "duration": 8,
    "start_time": "2025-01-14T09:56:17.115Z"
   },
   {
    "duration": 7,
    "start_time": "2025-01-14T09:56:17.125Z"
   },
   {
    "duration": 419,
    "start_time": "2025-01-14T09:56:17.135Z"
   },
   {
    "duration": 220,
    "start_time": "2025-01-14T09:56:17.555Z"
   },
   {
    "duration": 300,
    "start_time": "2025-01-14T09:56:17.777Z"
   },
   {
    "duration": 318,
    "start_time": "2025-01-14T09:56:18.078Z"
   },
   {
    "duration": 283,
    "start_time": "2025-01-14T09:56:18.404Z"
   },
   {
    "duration": 308,
    "start_time": "2025-01-14T09:56:18.689Z"
   },
   {
    "duration": 209,
    "start_time": "2025-01-14T09:56:18.998Z"
   },
   {
    "duration": 806,
    "start_time": "2025-01-14T09:57:09.739Z"
   },
   {
    "duration": 3,
    "start_time": "2025-01-14T09:57:10.547Z"
   },
   {
    "duration": 7,
    "start_time": "2025-01-14T09:57:10.552Z"
   },
   {
    "duration": 16,
    "start_time": "2025-01-14T09:57:10.562Z"
   },
   {
    "duration": 3,
    "start_time": "2025-01-14T09:57:10.580Z"
   },
   {
    "duration": 25,
    "start_time": "2025-01-14T09:57:10.584Z"
   },
   {
    "duration": 5,
    "start_time": "2025-01-14T09:57:10.610Z"
   },
   {
    "duration": 17,
    "start_time": "2025-01-14T09:57:10.617Z"
   },
   {
    "duration": 11,
    "start_time": "2025-01-14T09:57:10.636Z"
   },
   {
    "duration": 407,
    "start_time": "2025-01-14T09:57:10.651Z"
   },
   {
    "duration": 224,
    "start_time": "2025-01-14T09:57:11.059Z"
   },
   {
    "duration": 291,
    "start_time": "2025-01-14T09:57:11.285Z"
   },
   {
    "duration": 317,
    "start_time": "2025-01-14T09:57:11.580Z"
   },
   {
    "duration": 284,
    "start_time": "2025-01-14T09:57:11.905Z"
   },
   {
    "duration": 298,
    "start_time": "2025-01-14T09:57:12.191Z"
   },
   {
    "duration": 230,
    "start_time": "2025-01-14T09:57:12.490Z"
   },
   {
    "duration": 846,
    "start_time": "2025-01-14T10:01:24.285Z"
   },
   {
    "duration": 3,
    "start_time": "2025-01-14T10:01:25.134Z"
   },
   {
    "duration": 9,
    "start_time": "2025-01-14T10:01:25.138Z"
   },
   {
    "duration": 18,
    "start_time": "2025-01-14T10:01:25.150Z"
   },
   {
    "duration": 3,
    "start_time": "2025-01-14T10:01:25.170Z"
   },
   {
    "duration": 31,
    "start_time": "2025-01-14T10:01:25.175Z"
   },
   {
    "duration": 6,
    "start_time": "2025-01-14T10:01:25.208Z"
   },
   {
    "duration": 7,
    "start_time": "2025-01-14T10:01:25.216Z"
   },
   {
    "duration": 6,
    "start_time": "2025-01-14T10:01:25.225Z"
   },
   {
    "duration": 408,
    "start_time": "2025-01-14T10:01:25.233Z"
   },
   {
    "duration": 216,
    "start_time": "2025-01-14T10:01:25.643Z"
   },
   {
    "duration": 300,
    "start_time": "2025-01-14T10:01:25.860Z"
   },
   {
    "duration": 328,
    "start_time": "2025-01-14T10:01:26.162Z"
   },
   {
    "duration": 305,
    "start_time": "2025-01-14T10:01:26.492Z"
   },
   {
    "duration": 277,
    "start_time": "2025-01-14T10:01:26.804Z"
   },
   {
    "duration": 292,
    "start_time": "2025-01-14T10:01:27.083Z"
   },
   {
    "duration": 828,
    "start_time": "2025-01-14T10:02:10.130Z"
   },
   {
    "duration": 3,
    "start_time": "2025-01-14T10:02:10.961Z"
   },
   {
    "duration": 9,
    "start_time": "2025-01-14T10:02:10.966Z"
   },
   {
    "duration": 34,
    "start_time": "2025-01-14T10:02:10.977Z"
   },
   {
    "duration": 3,
    "start_time": "2025-01-14T10:02:11.012Z"
   },
   {
    "duration": 6,
    "start_time": "2025-01-14T10:02:11.017Z"
   },
   {
    "duration": 5,
    "start_time": "2025-01-14T10:02:11.025Z"
   },
   {
    "duration": 7,
    "start_time": "2025-01-14T10:02:11.032Z"
   },
   {
    "duration": 6,
    "start_time": "2025-01-14T10:02:11.040Z"
   },
   {
    "duration": 417,
    "start_time": "2025-01-14T10:02:11.048Z"
   },
   {
    "duration": 227,
    "start_time": "2025-01-14T10:02:11.467Z"
   },
   {
    "duration": 289,
    "start_time": "2025-01-14T10:02:11.699Z"
   },
   {
    "duration": 302,
    "start_time": "2025-01-14T10:02:11.990Z"
   },
   {
    "duration": 305,
    "start_time": "2025-01-14T10:02:12.294Z"
   },
   {
    "duration": 283,
    "start_time": "2025-01-14T10:02:12.605Z"
   },
   {
    "duration": 276,
    "start_time": "2025-01-14T10:02:12.889Z"
   },
   {
    "duration": 107,
    "start_time": "2025-01-14T10:13:08.186Z"
   },
   {
    "duration": 108,
    "start_time": "2025-01-14T10:15:27.677Z"
   },
   {
    "duration": 4,
    "start_time": "2025-01-14T10:17:36.630Z"
   },
   {
    "duration": 4,
    "start_time": "2025-01-14T10:23:20.781Z"
   },
   {
    "duration": 122,
    "start_time": "2025-01-14T10:32:02.734Z"
   },
   {
    "duration": 91,
    "start_time": "2025-01-14T10:33:43.964Z"
   },
   {
    "duration": 90,
    "start_time": "2025-01-14T10:36:38.291Z"
   },
   {
    "duration": 848,
    "start_time": "2025-01-14T10:48:41.746Z"
   },
   {
    "duration": 3,
    "start_time": "2025-01-14T10:48:42.596Z"
   },
   {
    "duration": 9,
    "start_time": "2025-01-14T10:48:42.602Z"
   },
   {
    "duration": 20,
    "start_time": "2025-01-14T10:48:42.615Z"
   },
   {
    "duration": 3,
    "start_time": "2025-01-14T10:48:42.637Z"
   },
   {
    "duration": 6,
    "start_time": "2025-01-14T10:48:42.642Z"
   },
   {
    "duration": 6,
    "start_time": "2025-01-14T10:48:42.649Z"
   },
   {
    "duration": 6,
    "start_time": "2025-01-14T10:48:42.657Z"
   },
   {
    "duration": 47,
    "start_time": "2025-01-14T10:48:42.665Z"
   },
   {
    "duration": 384,
    "start_time": "2025-01-14T10:48:42.716Z"
   },
   {
    "duration": 239,
    "start_time": "2025-01-14T10:48:43.101Z"
   },
   {
    "duration": 258,
    "start_time": "2025-01-14T10:48:43.342Z"
   },
   {
    "duration": 310,
    "start_time": "2025-01-14T10:48:43.606Z"
   },
   {
    "duration": 290,
    "start_time": "2025-01-14T10:48:43.918Z"
   },
   {
    "duration": 275,
    "start_time": "2025-01-14T10:48:44.210Z"
   },
   {
    "duration": 276,
    "start_time": "2025-01-14T10:48:44.486Z"
   },
   {
    "duration": 119,
    "start_time": "2025-01-14T10:48:44.764Z"
   },
   {
    "duration": 105,
    "start_time": "2025-01-14T10:48:44.886Z"
   },
   {
    "duration": 3,
    "start_time": "2025-01-14T10:48:44.993Z"
   },
   {
    "duration": 805,
    "start_time": "2025-01-14T10:57:02.940Z"
   },
   {
    "duration": 3,
    "start_time": "2025-01-14T10:57:03.747Z"
   },
   {
    "duration": 7,
    "start_time": "2025-01-14T10:57:03.751Z"
   },
   {
    "duration": 17,
    "start_time": "2025-01-14T10:57:03.761Z"
   },
   {
    "duration": 3,
    "start_time": "2025-01-14T10:57:03.780Z"
   },
   {
    "duration": 26,
    "start_time": "2025-01-14T10:57:03.785Z"
   },
   {
    "duration": 6,
    "start_time": "2025-01-14T10:57:03.812Z"
   },
   {
    "duration": 9,
    "start_time": "2025-01-14T10:57:03.819Z"
   },
   {
    "duration": 5,
    "start_time": "2025-01-14T10:57:03.830Z"
   },
   {
    "duration": 423,
    "start_time": "2025-01-14T10:57:03.839Z"
   },
   {
    "duration": 227,
    "start_time": "2025-01-14T10:57:04.263Z"
   },
   {
    "duration": 298,
    "start_time": "2025-01-14T10:57:04.492Z"
   },
   {
    "duration": 305,
    "start_time": "2025-01-14T10:57:04.792Z"
   },
   {
    "duration": 287,
    "start_time": "2025-01-14T10:57:05.105Z"
   },
   {
    "duration": 279,
    "start_time": "2025-01-14T10:57:05.404Z"
   },
   {
    "duration": 281,
    "start_time": "2025-01-14T10:57:05.685Z"
   },
   {
    "duration": 112,
    "start_time": "2025-01-14T10:57:05.968Z"
   },
   {
    "duration": 97,
    "start_time": "2025-01-14T10:57:06.082Z"
   },
   {
    "duration": 104,
    "start_time": "2025-01-14T10:57:06.180Z"
   },
   {
    "duration": 3,
    "start_time": "2025-01-14T10:57:06.286Z"
   },
   {
    "duration": 118,
    "start_time": "2025-01-14T10:57:06.291Z"
   },
   {
    "duration": 117,
    "start_time": "2025-01-14T10:57:06.411Z"
   },
   {
    "duration": 5,
    "start_time": "2025-01-14T10:57:06.530Z"
   },
   {
    "duration": 851,
    "start_time": "2025-01-14T11:02:02.343Z"
   },
   {
    "duration": 4,
    "start_time": "2025-01-14T11:02:03.196Z"
   },
   {
    "duration": 8,
    "start_time": "2025-01-14T11:02:03.206Z"
   },
   {
    "duration": 19,
    "start_time": "2025-01-14T11:02:03.217Z"
   },
   {
    "duration": 3,
    "start_time": "2025-01-14T11:02:03.237Z"
   },
   {
    "duration": 5,
    "start_time": "2025-01-14T11:02:03.242Z"
   },
   {
    "duration": 5,
    "start_time": "2025-01-14T11:02:03.248Z"
   },
   {
    "duration": 7,
    "start_time": "2025-01-14T11:02:03.255Z"
   },
   {
    "duration": 44,
    "start_time": "2025-01-14T11:02:03.263Z"
   },
   {
    "duration": 368,
    "start_time": "2025-01-14T11:02:03.310Z"
   },
   {
    "duration": 221,
    "start_time": "2025-01-14T11:02:03.680Z"
   },
   {
    "duration": 280,
    "start_time": "2025-01-14T11:02:03.905Z"
   },
   {
    "duration": 302,
    "start_time": "2025-01-14T11:02:04.187Z"
   },
   {
    "duration": 293,
    "start_time": "2025-01-14T11:02:04.491Z"
   },
   {
    "duration": 289,
    "start_time": "2025-01-14T11:02:04.786Z"
   },
   {
    "duration": 281,
    "start_time": "2025-01-14T11:02:05.077Z"
   },
   {
    "duration": 145,
    "start_time": "2025-01-14T11:02:05.360Z"
   },
   {
    "duration": 98,
    "start_time": "2025-01-14T11:02:05.507Z"
   },
   {
    "duration": 100,
    "start_time": "2025-01-14T11:02:05.607Z"
   },
   {
    "duration": 3,
    "start_time": "2025-01-14T11:02:05.709Z"
   },
   {
    "duration": 3,
    "start_time": "2025-01-14T11:02:05.714Z"
   },
   {
    "duration": 128,
    "start_time": "2025-01-14T11:02:05.719Z"
   },
   {
    "duration": 121,
    "start_time": "2025-01-14T11:02:05.849Z"
   },
   {
    "duration": 4,
    "start_time": "2025-01-14T11:02:05.971Z"
   },
   {
    "duration": 3,
    "start_time": "2025-01-14T11:02:05.977Z"
   },
   {
    "duration": 409,
    "start_time": "2025-01-14T11:14:23.680Z"
   },
   {
    "duration": 830,
    "start_time": "2025-01-14T11:16:59.464Z"
   },
   {
    "duration": 3,
    "start_time": "2025-01-14T11:17:00.297Z"
   },
   {
    "duration": 9,
    "start_time": "2025-01-14T11:17:00.305Z"
   },
   {
    "duration": 18,
    "start_time": "2025-01-14T11:17:00.316Z"
   },
   {
    "duration": 3,
    "start_time": "2025-01-14T11:17:00.336Z"
   },
   {
    "duration": 6,
    "start_time": "2025-01-14T11:17:00.341Z"
   },
   {
    "duration": 5,
    "start_time": "2025-01-14T11:17:00.348Z"
   },
   {
    "duration": 6,
    "start_time": "2025-01-14T11:17:00.355Z"
   },
   {
    "duration": 44,
    "start_time": "2025-01-14T11:17:00.362Z"
   },
   {
    "duration": 352,
    "start_time": "2025-01-14T11:17:00.409Z"
   },
   {
    "duration": 222,
    "start_time": "2025-01-14T11:17:00.763Z"
   },
   {
    "duration": 313,
    "start_time": "2025-01-14T11:17:00.986Z"
   },
   {
    "duration": 352,
    "start_time": "2025-01-14T11:17:01.304Z"
   },
   {
    "duration": 298,
    "start_time": "2025-01-14T11:17:01.658Z"
   },
   {
    "duration": 290,
    "start_time": "2025-01-14T11:17:01.958Z"
   },
   {
    "duration": 286,
    "start_time": "2025-01-14T11:17:02.251Z"
   },
   {
    "duration": 148,
    "start_time": "2025-01-14T11:17:02.540Z"
   },
   {
    "duration": 97,
    "start_time": "2025-01-14T11:17:02.690Z"
   },
   {
    "duration": 102,
    "start_time": "2025-01-14T11:17:02.790Z"
   },
   {
    "duration": 11,
    "start_time": "2025-01-14T11:17:02.894Z"
   },
   {
    "duration": 5,
    "start_time": "2025-01-14T11:17:02.907Z"
   },
   {
    "duration": 121,
    "start_time": "2025-01-14T11:17:02.914Z"
   },
   {
    "duration": 113,
    "start_time": "2025-01-14T11:17:03.036Z"
   },
   {
    "duration": 3,
    "start_time": "2025-01-14T11:17:03.151Z"
   },
   {
    "duration": 4,
    "start_time": "2025-01-14T11:17:03.156Z"
   },
   {
    "duration": 418,
    "start_time": "2025-01-14T11:17:03.162Z"
   },
   {
    "duration": 791,
    "start_time": "2025-01-14T11:18:23.045Z"
   },
   {
    "duration": 3,
    "start_time": "2025-01-14T11:18:23.838Z"
   },
   {
    "duration": 8,
    "start_time": "2025-01-14T11:18:23.842Z"
   },
   {
    "duration": 18,
    "start_time": "2025-01-14T11:18:23.852Z"
   },
   {
    "duration": 3,
    "start_time": "2025-01-14T11:18:23.872Z"
   },
   {
    "duration": 31,
    "start_time": "2025-01-14T11:18:23.876Z"
   },
   {
    "duration": 5,
    "start_time": "2025-01-14T11:18:23.908Z"
   },
   {
    "duration": 6,
    "start_time": "2025-01-14T11:18:23.915Z"
   },
   {
    "duration": 6,
    "start_time": "2025-01-14T11:18:23.923Z"
   },
   {
    "duration": 428,
    "start_time": "2025-01-14T11:18:23.932Z"
   },
   {
    "duration": 223,
    "start_time": "2025-01-14T11:18:24.362Z"
   },
   {
    "duration": 299,
    "start_time": "2025-01-14T11:18:24.586Z"
   },
   {
    "duration": 311,
    "start_time": "2025-01-14T11:18:24.887Z"
   },
   {
    "duration": 286,
    "start_time": "2025-01-14T11:18:25.205Z"
   },
   {
    "duration": 289,
    "start_time": "2025-01-14T11:18:25.493Z"
   },
   {
    "duration": 284,
    "start_time": "2025-01-14T11:18:25.784Z"
   },
   {
    "duration": 114,
    "start_time": "2025-01-14T11:18:26.070Z"
   },
   {
    "duration": 96,
    "start_time": "2025-01-14T11:18:26.186Z"
   },
   {
    "duration": 97,
    "start_time": "2025-01-14T11:18:26.284Z"
   },
   {
    "duration": 3,
    "start_time": "2025-01-14T11:18:26.383Z"
   },
   {
    "duration": 19,
    "start_time": "2025-01-14T11:18:26.387Z"
   },
   {
    "duration": 110,
    "start_time": "2025-01-14T11:18:26.407Z"
   },
   {
    "duration": 116,
    "start_time": "2025-01-14T11:18:26.519Z"
   },
   {
    "duration": 3,
    "start_time": "2025-01-14T11:18:26.636Z"
   },
   {
    "duration": 3,
    "start_time": "2025-01-14T11:18:26.641Z"
   },
   {
    "duration": 167,
    "start_time": "2025-01-14T11:18:26.646Z"
   },
   {
    "duration": 10,
    "start_time": "2025-01-14T11:21:50.371Z"
   },
   {
    "duration": 871,
    "start_time": "2025-01-14T11:35:48.820Z"
   },
   {
    "duration": 3,
    "start_time": "2025-01-14T11:35:49.693Z"
   },
   {
    "duration": 12,
    "start_time": "2025-01-14T11:35:49.698Z"
   },
   {
    "duration": 18,
    "start_time": "2025-01-14T11:35:49.712Z"
   },
   {
    "duration": 3,
    "start_time": "2025-01-14T11:35:49.731Z"
   },
   {
    "duration": 6,
    "start_time": "2025-01-14T11:35:49.736Z"
   },
   {
    "duration": 6,
    "start_time": "2025-01-14T11:35:49.743Z"
   },
   {
    "duration": 6,
    "start_time": "2025-01-14T11:35:49.750Z"
   },
   {
    "duration": 6,
    "start_time": "2025-01-14T11:35:49.758Z"
   },
   {
    "duration": 380,
    "start_time": "2025-01-14T11:35:49.806Z"
   },
   {
    "duration": 214,
    "start_time": "2025-01-14T11:35:50.188Z"
   },
   {
    "duration": 290,
    "start_time": "2025-01-14T11:35:50.405Z"
   },
   {
    "duration": 334,
    "start_time": "2025-01-14T11:35:50.706Z"
   },
   {
    "duration": 264,
    "start_time": "2025-01-14T11:35:51.041Z"
   },
   {
    "duration": 277,
    "start_time": "2025-01-14T11:35:51.307Z"
   },
   {
    "duration": 268,
    "start_time": "2025-01-14T11:35:51.587Z"
   },
   {
    "duration": 119,
    "start_time": "2025-01-14T11:35:51.857Z"
   },
   {
    "duration": 94,
    "start_time": "2025-01-14T11:35:51.978Z"
   },
   {
    "duration": 102,
    "start_time": "2025-01-14T11:35:52.074Z"
   },
   {
    "duration": 3,
    "start_time": "2025-01-14T11:35:52.178Z"
   },
   {
    "duration": 6,
    "start_time": "2025-01-14T11:35:52.183Z"
   },
   {
    "duration": 126,
    "start_time": "2025-01-14T11:35:52.191Z"
   },
   {
    "duration": 127,
    "start_time": "2025-01-14T11:35:52.319Z"
   },
   {
    "duration": 5,
    "start_time": "2025-01-14T11:35:52.448Z"
   },
   {
    "duration": 5,
    "start_time": "2025-01-14T11:35:52.455Z"
   },
   {
    "duration": 147,
    "start_time": "2025-01-14T11:35:52.461Z"
   },
   {
    "duration": 10,
    "start_time": "2025-01-14T11:35:52.611Z"
   },
   {
    "duration": 712,
    "start_time": "2025-01-14T11:35:52.625Z"
   },
   {
    "duration": 808,
    "start_time": "2025-01-14T11:37:00.834Z"
   },
   {
    "duration": 4,
    "start_time": "2025-01-14T11:37:01.643Z"
   },
   {
    "duration": 7,
    "start_time": "2025-01-14T11:37:01.648Z"
   },
   {
    "duration": 17,
    "start_time": "2025-01-14T11:37:01.658Z"
   },
   {
    "duration": 3,
    "start_time": "2025-01-14T11:37:01.678Z"
   },
   {
    "duration": 26,
    "start_time": "2025-01-14T11:37:01.683Z"
   },
   {
    "duration": 30,
    "start_time": "2025-01-14T11:37:01.711Z"
   },
   {
    "duration": 12,
    "start_time": "2025-01-14T11:37:01.743Z"
   },
   {
    "duration": 7,
    "start_time": "2025-01-14T11:37:01.756Z"
   },
   {
    "duration": 387,
    "start_time": "2025-01-14T11:37:01.766Z"
   },
   {
    "duration": 225,
    "start_time": "2025-01-14T11:37:02.156Z"
   },
   {
    "duration": 316,
    "start_time": "2025-01-14T11:37:02.383Z"
   },
   {
    "duration": 304,
    "start_time": "2025-01-14T11:37:02.701Z"
   },
   {
    "duration": 282,
    "start_time": "2025-01-14T11:37:03.007Z"
   },
   {
    "duration": 287,
    "start_time": "2025-01-14T11:37:03.290Z"
   },
   {
    "duration": 274,
    "start_time": "2025-01-14T11:37:03.579Z"
   },
   {
    "duration": 128,
    "start_time": "2025-01-14T11:37:03.854Z"
   },
   {
    "duration": 101,
    "start_time": "2025-01-14T11:37:03.984Z"
   },
   {
    "duration": 108,
    "start_time": "2025-01-14T11:37:04.087Z"
   },
   {
    "duration": 9,
    "start_time": "2025-01-14T11:37:04.197Z"
   },
   {
    "duration": 3,
    "start_time": "2025-01-14T11:37:04.208Z"
   },
   {
    "duration": 120,
    "start_time": "2025-01-14T11:37:04.213Z"
   },
   {
    "duration": 118,
    "start_time": "2025-01-14T11:37:04.335Z"
   },
   {
    "duration": 5,
    "start_time": "2025-01-14T11:37:04.455Z"
   },
   {
    "duration": 3,
    "start_time": "2025-01-14T11:37:04.462Z"
   },
   {
    "duration": 155,
    "start_time": "2025-01-14T11:37:04.466Z"
   },
   {
    "duration": 8,
    "start_time": "2025-01-14T11:37:04.623Z"
   },
   {
    "duration": 713,
    "start_time": "2025-01-14T11:37:04.634Z"
   },
   {
    "duration": 13,
    "start_time": "2025-01-14T11:42:50.867Z"
   },
   {
    "duration": 820,
    "start_time": "2025-01-14T11:43:04.439Z"
   },
   {
    "duration": 3,
    "start_time": "2025-01-14T11:43:05.261Z"
   },
   {
    "duration": 8,
    "start_time": "2025-01-14T11:43:05.266Z"
   },
   {
    "duration": 30,
    "start_time": "2025-01-14T11:43:05.276Z"
   },
   {
    "duration": 3,
    "start_time": "2025-01-14T11:43:05.308Z"
   },
   {
    "duration": 6,
    "start_time": "2025-01-14T11:43:05.313Z"
   },
   {
    "duration": 5,
    "start_time": "2025-01-14T11:43:05.321Z"
   },
   {
    "duration": 6,
    "start_time": "2025-01-14T11:43:05.327Z"
   },
   {
    "duration": 5,
    "start_time": "2025-01-14T11:43:05.335Z"
   },
   {
    "duration": 409,
    "start_time": "2025-01-14T11:43:05.344Z"
   },
   {
    "duration": 218,
    "start_time": "2025-01-14T11:43:05.755Z"
   },
   {
    "duration": 294,
    "start_time": "2025-01-14T11:43:05.975Z"
   },
   {
    "duration": 327,
    "start_time": "2025-01-14T11:43:06.271Z"
   },
   {
    "duration": 282,
    "start_time": "2025-01-14T11:43:06.605Z"
   },
   {
    "duration": 292,
    "start_time": "2025-01-14T11:43:06.888Z"
   },
   {
    "duration": 276,
    "start_time": "2025-01-14T11:43:07.182Z"
   },
   {
    "duration": 132,
    "start_time": "2025-01-14T11:43:07.460Z"
   },
   {
    "duration": 96,
    "start_time": "2025-01-14T11:43:07.594Z"
   },
   {
    "duration": 102,
    "start_time": "2025-01-14T11:43:07.691Z"
   },
   {
    "duration": 4,
    "start_time": "2025-01-14T11:43:07.805Z"
   },
   {
    "duration": 3,
    "start_time": "2025-01-14T11:43:07.811Z"
   },
   {
    "duration": 123,
    "start_time": "2025-01-14T11:43:07.816Z"
   },
   {
    "duration": 113,
    "start_time": "2025-01-14T11:43:07.941Z"
   },
   {
    "duration": 5,
    "start_time": "2025-01-14T11:43:08.056Z"
   },
   {
    "duration": 4,
    "start_time": "2025-01-14T11:43:08.063Z"
   },
   {
    "duration": 150,
    "start_time": "2025-01-14T11:43:08.068Z"
   },
   {
    "duration": 9,
    "start_time": "2025-01-14T11:43:08.220Z"
   },
   {
    "duration": 302,
    "start_time": "2025-01-14T11:43:08.232Z"
   },
   {
    "duration": 0,
    "start_time": "2025-01-14T11:43:08.536Z"
   },
   {
    "duration": 3,
    "start_time": "2025-01-14T11:43:33.149Z"
   },
   {
    "duration": 356,
    "start_time": "2025-01-14T11:45:58.219Z"
   },
   {
    "duration": 776,
    "start_time": "2025-01-14T11:47:27.362Z"
   },
   {
    "duration": 3,
    "start_time": "2025-01-14T11:47:28.140Z"
   },
   {
    "duration": 7,
    "start_time": "2025-01-14T11:47:28.145Z"
   },
   {
    "duration": 18,
    "start_time": "2025-01-14T11:47:28.154Z"
   },
   {
    "duration": 3,
    "start_time": "2025-01-14T11:47:28.174Z"
   },
   {
    "duration": 7,
    "start_time": "2025-01-14T11:47:28.205Z"
   },
   {
    "duration": 6,
    "start_time": "2025-01-14T11:47:28.213Z"
   },
   {
    "duration": 7,
    "start_time": "2025-01-14T11:47:28.220Z"
   },
   {
    "duration": 7,
    "start_time": "2025-01-14T11:47:28.229Z"
   },
   {
    "duration": 428,
    "start_time": "2025-01-14T11:47:28.238Z"
   },
   {
    "duration": 222,
    "start_time": "2025-01-14T11:47:28.668Z"
   },
   {
    "duration": 285,
    "start_time": "2025-01-14T11:47:28.892Z"
   },
   {
    "duration": 313,
    "start_time": "2025-01-14T11:47:29.179Z"
   },
   {
    "duration": 295,
    "start_time": "2025-01-14T11:47:29.497Z"
   },
   {
    "duration": 294,
    "start_time": "2025-01-14T11:47:29.795Z"
   },
   {
    "duration": 275,
    "start_time": "2025-01-14T11:47:30.091Z"
   },
   {
    "duration": 115,
    "start_time": "2025-01-14T11:47:30.368Z"
   },
   {
    "duration": 97,
    "start_time": "2025-01-14T11:47:30.485Z"
   },
   {
    "duration": 99,
    "start_time": "2025-01-14T11:47:30.584Z"
   },
   {
    "duration": 3,
    "start_time": "2025-01-14T11:47:30.685Z"
   },
   {
    "duration": 16,
    "start_time": "2025-01-14T11:47:30.690Z"
   },
   {
    "duration": 118,
    "start_time": "2025-01-14T11:47:30.708Z"
   },
   {
    "duration": 114,
    "start_time": "2025-01-14T11:47:30.828Z"
   },
   {
    "duration": 4,
    "start_time": "2025-01-14T11:47:30.944Z"
   },
   {
    "duration": 4,
    "start_time": "2025-01-14T11:47:30.950Z"
   },
   {
    "duration": 154,
    "start_time": "2025-01-14T11:47:30.955Z"
   },
   {
    "duration": 8,
    "start_time": "2025-01-14T11:47:31.110Z"
   },
   {
    "duration": 3,
    "start_time": "2025-01-14T11:47:31.121Z"
   },
   {
    "duration": 6,
    "start_time": "2025-01-14T11:47:31.126Z"
   },
   {
    "duration": 286,
    "start_time": "2025-01-14T11:52:03.976Z"
   },
   {
    "duration": 822,
    "start_time": "2025-01-14T11:53:47.610Z"
   },
   {
    "duration": 3,
    "start_time": "2025-01-14T11:53:48.435Z"
   },
   {
    "duration": 8,
    "start_time": "2025-01-14T11:53:48.440Z"
   },
   {
    "duration": 18,
    "start_time": "2025-01-14T11:53:48.451Z"
   },
   {
    "duration": 3,
    "start_time": "2025-01-14T11:53:48.470Z"
   },
   {
    "duration": 5,
    "start_time": "2025-01-14T11:53:48.475Z"
   },
   {
    "duration": 6,
    "start_time": "2025-01-14T11:53:48.505Z"
   },
   {
    "duration": 7,
    "start_time": "2025-01-14T11:53:48.512Z"
   },
   {
    "duration": 6,
    "start_time": "2025-01-14T11:53:48.521Z"
   },
   {
    "duration": 396,
    "start_time": "2025-01-14T11:53:48.530Z"
   },
   {
    "duration": 215,
    "start_time": "2025-01-14T11:53:48.928Z"
   },
   {
    "duration": 254,
    "start_time": "2025-01-14T11:53:49.145Z"
   },
   {
    "duration": 326,
    "start_time": "2025-01-14T11:53:49.401Z"
   },
   {
    "duration": 267,
    "start_time": "2025-01-14T11:53:49.729Z"
   },
   {
    "duration": 269,
    "start_time": "2025-01-14T11:53:50.004Z"
   },
   {
    "duration": 284,
    "start_time": "2025-01-14T11:53:50.274Z"
   },
   {
    "duration": 131,
    "start_time": "2025-01-14T11:53:50.560Z"
   },
   {
    "duration": 97,
    "start_time": "2025-01-14T11:53:50.692Z"
   },
   {
    "duration": 102,
    "start_time": "2025-01-14T11:53:50.791Z"
   },
   {
    "duration": 11,
    "start_time": "2025-01-14T11:53:50.895Z"
   },
   {
    "duration": 3,
    "start_time": "2025-01-14T11:53:50.908Z"
   },
   {
    "duration": 126,
    "start_time": "2025-01-14T11:53:50.913Z"
   },
   {
    "duration": 120,
    "start_time": "2025-01-14T11:53:51.041Z"
   },
   {
    "duration": 4,
    "start_time": "2025-01-14T11:53:51.163Z"
   },
   {
    "duration": 4,
    "start_time": "2025-01-14T11:53:51.168Z"
   },
   {
    "duration": 138,
    "start_time": "2025-01-14T11:53:51.173Z"
   },
   {
    "duration": 7,
    "start_time": "2025-01-14T11:53:51.313Z"
   },
   {
    "duration": 2,
    "start_time": "2025-01-14T11:53:51.324Z"
   },
   {
    "duration": 7,
    "start_time": "2025-01-14T11:53:51.328Z"
   },
   {
    "duration": 20,
    "start_time": "2025-01-14T11:53:51.336Z"
   },
   {
    "duration": 838,
    "start_time": "2025-01-14T11:59:59.812Z"
   },
   {
    "duration": 4,
    "start_time": "2025-01-14T12:00:00.652Z"
   },
   {
    "duration": 9,
    "start_time": "2025-01-14T12:00:00.657Z"
   },
   {
    "duration": 19,
    "start_time": "2025-01-14T12:00:00.668Z"
   },
   {
    "duration": 2,
    "start_time": "2025-01-14T12:00:00.705Z"
   },
   {
    "duration": 7,
    "start_time": "2025-01-14T12:00:00.709Z"
   },
   {
    "duration": 5,
    "start_time": "2025-01-14T12:00:00.718Z"
   },
   {
    "duration": 6,
    "start_time": "2025-01-14T12:00:00.725Z"
   },
   {
    "duration": 6,
    "start_time": "2025-01-14T12:00:00.733Z"
   },
   {
    "duration": 427,
    "start_time": "2025-01-14T12:00:00.742Z"
   },
   {
    "duration": 234,
    "start_time": "2025-01-14T12:00:01.171Z"
   },
   {
    "duration": 292,
    "start_time": "2025-01-14T12:00:01.407Z"
   },
   {
    "duration": 313,
    "start_time": "2025-01-14T12:00:01.701Z"
   },
   {
    "duration": 282,
    "start_time": "2025-01-14T12:00:02.016Z"
   },
   {
    "duration": 287,
    "start_time": "2025-01-14T12:00:02.304Z"
   },
   {
    "duration": 275,
    "start_time": "2025-01-14T12:00:02.593Z"
   },
   {
    "duration": 158,
    "start_time": "2025-01-14T12:00:02.870Z"
   },
   {
    "duration": 108,
    "start_time": "2025-01-14T12:00:03.030Z"
   },
   {
    "duration": 112,
    "start_time": "2025-01-14T12:00:03.143Z"
   },
   {
    "duration": 4,
    "start_time": "2025-01-14T12:00:03.256Z"
   },
   {
    "duration": 3,
    "start_time": "2025-01-14T12:00:03.261Z"
   },
   {
    "duration": 121,
    "start_time": "2025-01-14T12:00:03.266Z"
   },
   {
    "duration": 128,
    "start_time": "2025-01-14T12:00:03.388Z"
   },
   {
    "duration": 7,
    "start_time": "2025-01-14T12:00:03.518Z"
   },
   {
    "duration": 3,
    "start_time": "2025-01-14T12:00:03.527Z"
   },
   {
    "duration": 156,
    "start_time": "2025-01-14T12:00:03.532Z"
   },
   {
    "duration": 20,
    "start_time": "2025-01-14T12:00:03.690Z"
   },
   {
    "duration": 3,
    "start_time": "2025-01-14T12:00:03.715Z"
   },
   {
    "duration": 7,
    "start_time": "2025-01-14T12:00:03.719Z"
   },
   {
    "duration": 27,
    "start_time": "2025-01-14T12:00:03.727Z"
   },
   {
    "duration": 11,
    "start_time": "2025-01-14T12:00:03.756Z"
   },
   {
    "duration": 769,
    "start_time": "2025-01-14T17:19:25.871Z"
   },
   {
    "duration": 3,
    "start_time": "2025-01-14T17:19:26.643Z"
   },
   {
    "duration": 8,
    "start_time": "2025-01-14T17:19:26.648Z"
   },
   {
    "duration": 17,
    "start_time": "2025-01-14T17:19:26.658Z"
   },
   {
    "duration": 2,
    "start_time": "2025-01-14T17:19:26.678Z"
   },
   {
    "duration": 31,
    "start_time": "2025-01-14T17:19:26.682Z"
   },
   {
    "duration": 7,
    "start_time": "2025-01-14T17:19:26.718Z"
   },
   {
    "duration": 7,
    "start_time": "2025-01-14T17:19:26.727Z"
   },
   {
    "duration": 7,
    "start_time": "2025-01-14T17:19:26.736Z"
   },
   {
    "duration": 418,
    "start_time": "2025-01-14T17:19:26.744Z"
   },
   {
    "duration": 234,
    "start_time": "2025-01-14T17:19:27.164Z"
   },
   {
    "duration": 292,
    "start_time": "2025-01-14T17:19:27.405Z"
   },
   {
    "duration": 301,
    "start_time": "2025-01-14T17:19:27.704Z"
   },
   {
    "duration": 279,
    "start_time": "2025-01-14T17:19:28.009Z"
   },
   {
    "duration": 288,
    "start_time": "2025-01-14T17:19:28.290Z"
   },
   {
    "duration": 285,
    "start_time": "2025-01-14T17:19:28.580Z"
   },
   {
    "duration": 138,
    "start_time": "2025-01-14T17:19:28.867Z"
   },
   {
    "duration": 85,
    "start_time": "2025-01-14T17:19:29.007Z"
   },
   {
    "duration": 98,
    "start_time": "2025-01-14T17:19:29.094Z"
   },
   {
    "duration": 3,
    "start_time": "2025-01-14T17:19:29.205Z"
   },
   {
    "duration": 5,
    "start_time": "2025-01-14T17:19:29.210Z"
   },
   {
    "duration": 122,
    "start_time": "2025-01-14T17:19:29.216Z"
   },
   {
    "duration": 118,
    "start_time": "2025-01-14T17:19:29.340Z"
   },
   {
    "duration": 7,
    "start_time": "2025-01-14T17:19:29.460Z"
   },
   {
    "duration": 5,
    "start_time": "2025-01-14T17:19:29.470Z"
   },
   {
    "duration": 136,
    "start_time": "2025-01-14T17:19:29.478Z"
   },
   {
    "duration": 8,
    "start_time": "2025-01-14T17:19:29.617Z"
   },
   {
    "duration": 3,
    "start_time": "2025-01-14T17:19:29.627Z"
   },
   {
    "duration": 7,
    "start_time": "2025-01-14T17:19:29.632Z"
   },
   {
    "duration": 20,
    "start_time": "2025-01-14T17:19:29.641Z"
   },
   {
    "duration": 43,
    "start_time": "2025-01-14T17:19:29.662Z"
   }
  ],
  "kernelspec": {
   "display_name": "Python 3 (ipykernel)",
   "language": "python",
   "name": "python3"
  },
  "language_info": {
   "codemirror_mode": {
    "name": "ipython",
    "version": 3
   },
   "file_extension": ".py",
   "mimetype": "text/x-python",
   "name": "python",
   "nbconvert_exporter": "python",
   "pygments_lexer": "ipython3",
   "version": "3.9.19"
  },
  "toc": {
   "base_numbering": 1,
   "nav_menu": {},
   "number_sections": true,
   "sideBar": true,
   "skip_h1_title": true,
   "title_cell": "Table of Contents",
   "title_sidebar": "Contents",
   "toc_cell": false,
   "toc_position": {
    "height": "calc(100% - 180px)",
    "left": "10px",
    "top": "150px",
    "width": "248px"
   },
   "toc_section_display": true,
   "toc_window_display": true
  }
 },
 "nbformat": 4,
 "nbformat_minor": 2
}
